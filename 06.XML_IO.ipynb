{
 "cells": [
  {
   "cell_type": "markdown",
   "metadata": {},
   "source": [
    "## Most of the modules are already pakaged with the anaconda and python installation. \n",
    "\n",
    "However, xmltodict module needs to installed from anaconda's terminal"
   ]
  },
  {
   "cell_type": "code",
   "execution_count": 2,
   "metadata": {},
   "outputs": [],
   "source": [
    "import xml.etree.cElementTree as etree\n",
    "from xml.etree.cElementTree import ElementTree\n",
    "from xml.etree.cElementTree import Element\n",
    "from xml.etree.cElementTree import ParseError\n",
    "\n",
    "import lxml.etree as letree\n",
    "from xml.dom import minidom\n",
    "import xmltodict\n",
    "from collections import namedtuple\n",
    "\n",
    "import pandas as pd\n",
    "import json"
   ]
  },
  {
   "cell_type": "markdown",
   "metadata": {},
   "source": [
    "### Creating and Saving XML with ElementTree API\n",
    "The ElementTree API is useful for creating and parsing XML files. It has two primary classes:\n",
    "\n",
    "- ElementTree: supports XML and document manipulation:\n",
    "    - ElementTree.find() and ElementTree.findall() methods provide XPath searching capabilities\n",
    "        - XPath stands for XML Path Language\n",
    "        - XPath uses \"path like\" syntax to identify and navigate nodes in an XML document\n",
    "- Element: wraps an XML element\n",
    "    \n",
    "To create XML:\n",
    "\n",
    "- create a root node using Element and then\n",
    "- create a tree using ElementTree with this root node"
   ]
  },
  {
   "cell_type": "code",
   "execution_count": 3,
   "metadata": {},
   "outputs": [],
   "source": [
    "root = Element('contacts')"
   ]
  },
  {
   "cell_type": "code",
   "execution_count": 4,
   "metadata": {},
   "outputs": [],
   "source": [
    "tree = ElementTree(root)"
   ]
  },
  {
   "cell_type": "code",
   "execution_count": 5,
   "metadata": {},
   "outputs": [
    {
     "data": {
      "text/plain": [
       "<xml.etree.ElementTree.ElementTree at 0x7faee00e05f8>"
      ]
     },
     "execution_count": 5,
     "metadata": {},
     "output_type": "execute_result"
    }
   ],
   "source": [
    "tree"
   ]
  },
  {
   "cell_type": "markdown",
   "metadata": {},
   "source": [
    "## Populate an XML tree with additional tree nodes containing the following information:"
   ]
  },
  {
   "cell_type": "code",
   "execution_count": 18,
   "metadata": {},
   "outputs": [],
   "source": [
    "Contact = namedtuple(\"ContactRecord\", 'first last age email')\n",
    "\n",
    "records = [\n",
    "    Contact('Tom', 'Smith', 53, 'tsmith@boo.com'),\n",
    "    Contact('Phil', 'Hammer', 42, 'phammer@boo.com'),\n",
    "    Contact('Mary', 'Fast', 22, 'mfast@boo.com'),\n",
    "    Contact('Jessica', 'Rest', 33, 'jrest@goo.com')\n",
    "]"
   ]
  },
  {
   "cell_type": "code",
   "execution_count": 19,
   "metadata": {},
   "outputs": [],
   "source": [
    "records.sort(key= lambda a: a.age, reverse=True)"
   ]
  },
  {
   "cell_type": "code",
   "execution_count": 20,
   "metadata": {},
   "outputs": [
    {
     "data": {
      "text/plain": [
       "[ContactRecord(first='Tom', last='Smith', age=53, email='tsmith@boo.com'),\n",
       " ContactRecord(first='Phil', last='Hammer', age=42, email='phammer@boo.com'),\n",
       " ContactRecord(first='Jessica', last='Rest', age=33, email='jrest@goo.com'),\n",
       " ContactRecord(first='Mary', last='Fast', age=22, email='mfast@boo.com')]"
      ]
     },
     "execution_count": 20,
     "metadata": {},
     "output_type": "execute_result"
    }
   ],
   "source": [
    "records"
   ]
  },
  {
   "cell_type": "markdown",
   "metadata": {},
   "source": [
    "### Now build and append nodes to the XML tree:"
   ]
  },
  {
   "cell_type": "code",
   "execution_count": 11,
   "metadata": {},
   "outputs": [],
   "source": [
    "for record in records:\n",
    "    \n",
    "    contact = Element('contact')\n",
    "    \n",
    "    name = Element('name')\n",
    "    \n",
    "    first = Element('first')\n",
    "    last = Element('last')\n",
    "    email = Element('email')\n",
    "    \n",
    "    name.attrib = {'age':str(record.age)}\n",
    "    first.text = record.first\n",
    "    last.text = record.last\n",
    "    email.text = record.email\n",
    "    \n",
    "    name.append(first)\n",
    "    name.append(last)\n",
    "    \n",
    "    contact.append(email)\n",
    "    contact.append(name)\n",
    "    \n",
    "    root.append(contact)"
   ]
  },
  {
   "cell_type": "markdown",
   "metadata": {},
   "source": [
    "### Writing XML Tree to an XML File with tree.write()\n",
    "Finally, save the built XML tree as an XML file:"
   ]
  },
  {
   "cell_type": "code",
   "execution_count": 12,
   "metadata": {},
   "outputs": [],
   "source": [
    "tree.write(\"results.xml\", encoding = 'utf8')"
   ]
  },
  {
   "cell_type": "code",
   "execution_count": 14,
   "metadata": {},
   "outputs": [
    {
     "name": "stdout",
     "output_type": "stream",
     "text": [
      "01.NumPy.ipynb                      dtest.csv\r\n",
      "02.Pandas.ipynb                     dtrain.csv\r\n",
      "03.NumPy_IO_Helper_Functions.ipynb  index.json\r\n",
      "04.DataIO_CSV_XLSX.ipynb            \u001b[0m\u001b[01;32mLordOfTheRings.txt\u001b[0m*\r\n",
      "05.JSON.ipynb                       Missing_Data.ipynb\r\n",
      "06.XML_IO.ipynb                     records.json\r\n",
      "a.npy                               RegularExpressions.ipynb\r\n",
      "a.txt                               results.xml\r\n",
      "b.txt                               split.json\r\n",
      "columns.json                        stdworkers.csv\r\n",
      "Concatenate_Merge_Join.ipynb        Subset_Filter_Split.ipynb\r\n",
      "csv_hr_db.csv                       values.json\r\n",
      "\u001b[01;34mdata_raw\u001b[0m/                           weather_write.xlsx\r\n"
     ]
    }
   ],
   "source": [
    "ls"
   ]
  },
  {
   "cell_type": "markdown",
   "metadata": {},
   "source": [
    "### Setting and Getting XML Attributes with .set() and .get()\n",
    "There are various methods to set and get attributes with the Element object:\n",
    "\n",
    "- .set(): to set attribute (name, value) pair\n",
    "- .attrib(): to set an attribute value by its name\n",
    "- .get(): to get an attribute value by its name"
   ]
  },
  {
   "cell_type": "code",
   "execution_count": 25,
   "metadata": {},
   "outputs": [
    {
     "name": "stdout",
     "output_type": "stream",
     "text": [
      "The attribute is 53\n",
      "The attribute is 53\n",
      "The Default attribute is default value\n",
      "The attribute is 42\n",
      "The attribute is 42\n",
      "The Default attribute is default value\n",
      "The attribute is 33\n",
      "The attribute is 33\n",
      "The Default attribute is default value\n",
      "The attribute is 22\n",
      "The attribute is 22\n",
      "The Default attribute is default value\n"
     ]
    }
   ],
   "source": [
    "for record in records:\n",
    "    name = Element('name')\n",
    "    \n",
    "    name.attrib = {'age':str(record.age)}\n",
    "    name.set('age',str(record.age))\n",
    "    name.attrib['age'] = str(record.age)\n",
    "    \n",
    "    print('The attribute is', name.attrib['age'])\n",
    "    print('The attribute is', name.get('age'))\n",
    "    print('The Default attribute is', name.get('age1','default value'))\n",
    "    "
   ]
  },
  {
   "cell_type": "markdown",
   "metadata": {},
   "source": [
    "# Pretty Printing of the XML Tree with lxml\n",
    "- The ElementTree doesn't have a pretty print feature.\n",
    "The lxml version of the ElementTree has this option:\n",
    "https://lxml.de/tutorial.html"
   ]
  },
  {
   "cell_type": "markdown",
   "metadata": {},
   "source": [
    "## Working with LXML Parser\n",
    "LXML is often preferred, feature-rich parser\n",
    "\n",
    "- is a wrapper built around the libxml2 C++ library\n",
    "- is a validating parser, which means it can support schema and DTDs,\n",
    "- supports full XPath syntax, and XSLT capabilities\n",
    "\n",
    "To install pip install lxml"
   ]
  },
  {
   "cell_type": "code",
   "execution_count": 26,
   "metadata": {},
   "outputs": [],
   "source": [
    "lroot = letree.Element(\"root\")"
   ]
  },
  {
   "cell_type": "code",
   "execution_count": 27,
   "metadata": {},
   "outputs": [],
   "source": [
    "for record in records:\n",
    "    contact = letree.Element(\"contact\")\n",
    "    name = letree.Element(\"name\")\n",
    "    first = letree.Element(\"first\")\n",
    "    last = letree.Element(\"last\")\n",
    "    email = letree.Element('email')\n",
    "    \n",
    "    name.set('age', str(record.age))\n",
    "    first.text = record.first\n",
    "    last.text = record.last\n",
    "    email.text = record.email\n",
    "    \n",
    "    name.append(first)\n",
    "    name.append(last)\n",
    "    \n",
    "    contact.append(email)\n",
    "    contact.append(name)\n",
    "    \n",
    "    lroot.append(contact)"
   ]
  },
  {
   "cell_type": "code",
   "execution_count": 28,
   "metadata": {},
   "outputs": [
    {
     "name": "stdout",
     "output_type": "stream",
     "text": [
      "<root>\n",
      "  <contact>\n",
      "    <email>tsmith@boo.com</email>\n",
      "    <name age=\"53\">\n",
      "      <first>Tom</first>\n",
      "      <last>Smith</last>\n",
      "    </name>\n",
      "  </contact>\n",
      "  <contact>\n",
      "    <email>phammer@boo.com</email>\n",
      "    <name age=\"42\">\n",
      "      <first>Phil</first>\n",
      "      <last>Hammer</last>\n",
      "    </name>\n",
      "  </contact>\n",
      "  <contact>\n",
      "    <email>jrest@goo.com</email>\n",
      "    <name age=\"33\">\n",
      "      <first>Jessica</first>\n",
      "      <last>Rest</last>\n",
      "    </name>\n",
      "  </contact>\n",
      "  <contact>\n",
      "    <email>mfast@boo.com</email>\n",
      "    <name age=\"22\">\n",
      "      <first>Mary</first>\n",
      "      <last>Fast</last>\n",
      "    </name>\n",
      "  </contact>\n",
      "</root>\n",
      "\n"
     ]
    }
   ],
   "source": [
    "print(letree.tostring(lroot, pretty_print = True).decode('utf8'))"
   ]
  },
  {
   "cell_type": "markdown",
   "metadata": {},
   "source": [
    "### Optionally, use the Minidom API as a work around"
   ]
  },
  {
   "cell_type": "code",
   "execution_count": 29,
   "metadata": {},
   "outputs": [],
   "source": [
    "xml_str = etree.tostring(root)"
   ]
  },
  {
   "cell_type": "code",
   "execution_count": null,
   "metadata": {},
   "outputs": [],
   "source": []
  },
  {
   "cell_type": "code",
   "execution_count": 30,
   "metadata": {},
   "outputs": [],
   "source": [
    "pretty_xml = minidom.parseString(xml_str)"
   ]
  },
  {
   "cell_type": "code",
   "execution_count": 31,
   "metadata": {},
   "outputs": [],
   "source": [
    "pretty_xml = pretty_xml.toprettyxml(encoding='utf8')"
   ]
  },
  {
   "cell_type": "code",
   "execution_count": 33,
   "metadata": {},
   "outputs": [
    {
     "name": "stdout",
     "output_type": "stream",
     "text": [
      "<?xml version=\"1.0\" encoding=\"utf8\"?>\n",
      "<contacts>\n",
      "\t<contact>\n",
      "\t\t<email>tsmith@boo.com</email>\n",
      "\t\t<name age=\"53\">\n",
      "\t\t\t<first>Tom</first>\n",
      "\t\t\t<last>Smith</last>\n",
      "\t\t</name>\n",
      "\t</contact>\n",
      "\t<contact>\n",
      "\t\t<email>phammer@boo.com</email>\n",
      "\t\t<name age=\"42\">\n",
      "\t\t\t<first>Phil</first>\n",
      "\t\t\t<last>Hammer</last>\n",
      "\t\t</name>\n",
      "\t</contact>\n",
      "\t<contact>\n",
      "\t\t<email>jrest@goo.com</email>\n",
      "\t\t<name age=\"33\">\n",
      "\t\t\t<first>Jessica</first>\n",
      "\t\t\t<last>Rest</last>\n",
      "\t\t</name>\n",
      "\t</contact>\n",
      "\t<contact>\n",
      "\t\t<email>mfast@boo.com</email>\n",
      "\t\t<name age=\"22\">\n",
      "\t\t\t<first>Mary</first>\n",
      "\t\t\t<last>Fast</last>\n",
      "\t\t</name>\n",
      "\t</contact>\n",
      "</contacts>\n",
      "\n"
     ]
    }
   ],
   "source": [
    "print(pretty_xml.decode())"
   ]
  },
  {
   "cell_type": "code",
   "execution_count": 36,
   "metadata": {},
   "outputs": [],
   "source": [
    "with open(\"pretty.xml\",'w') as w:\n",
    "    w.write(pretty_xml.decode())"
   ]
  },
  {
   "cell_type": "code",
   "execution_count": 37,
   "metadata": {},
   "outputs": [
    {
     "name": "stdout",
     "output_type": "stream",
     "text": [
      "01.NumPy.ipynb                      dtrain.csv\r\n",
      "02.Pandas.ipynb                     index.json\r\n",
      "03.NumPy_IO_Helper_Functions.ipynb  \u001b[0m\u001b[01;32mLordOfTheRings.txt\u001b[0m*\r\n",
      "04.DataIO_CSV_XLSX.ipynb            Missing_Data.ipynb\r\n",
      "05.JSON.ipynb                       pretty.xml\r\n",
      "06.XML_IO.ipynb                     records.json\r\n",
      "a.npy                               RegularExpressions.ipynb\r\n",
      "a.txt                               results.xml\r\n",
      "b.txt                               split.json\r\n",
      "columns.json                        stdworkers.csv\r\n",
      "Concatenate_Merge_Join.ipynb        Subset_Filter_Split.ipynb\r\n",
      "csv_hr_db.csv                       values.json\r\n",
      "\u001b[01;34mdata_raw\u001b[0m/                           weather_write.xlsx\r\n",
      "dtest.csv\r\n"
     ]
    }
   ],
   "source": [
    "ls"
   ]
  },
  {
   "cell_type": "markdown",
   "metadata": {},
   "source": [
    "# Parsing XML with ElementTree"
   ]
  },
  {
   "cell_type": "code",
   "execution_count": 38,
   "metadata": {},
   "outputs": [],
   "source": [
    "Contact = namedtuple('ContactRecord', 'first last age email')"
   ]
  },
  {
   "cell_type": "code",
   "execution_count": 39,
   "metadata": {},
   "outputs": [],
   "source": [
    "tree = ElementTree()"
   ]
  },
  {
   "cell_type": "code",
   "execution_count": 40,
   "metadata": {},
   "outputs": [],
   "source": [
    "tree = tree.parse('results.xml')"
   ]
  },
  {
   "cell_type": "code",
   "execution_count": 41,
   "metadata": {},
   "outputs": [],
   "source": [
    "contacts = []\n",
    "\n",
    "for contact in tree.getiterator('contact'):\n",
    "    first = contact.find('.//first').text\n",
    "    last = contact.find('.//last').text\n",
    "    email = contact.find('.//email').text\n",
    "    age = contact.find('.//name').get('age')\n",
    "    contacts.append(Contact(first, last, age, email))\n",
    "    "
   ]
  },
  {
   "cell_type": "code",
   "execution_count": 42,
   "metadata": {},
   "outputs": [
    {
     "name": "stdout",
     "output_type": "stream",
     "text": [
      "[ContactRecord(first='Tom', last='Smith', age='53', email='tsmith@boo.com'), ContactRecord(first='Phil', last='Hammer', age='42', email='phammer@boo.com'), ContactRecord(first='Jessica', last='Rest', age='33', email='jrest@goo.com'), ContactRecord(first='Mary', last='Fast', age='22', email='mfast@boo.com')]\n"
     ]
    }
   ],
   "source": [
    "print(contacts)"
   ]
  },
  {
   "cell_type": "markdown",
   "metadata": {},
   "source": [
    "### Example: XPath Navigation"
   ]
  },
  {
   "cell_type": "code",
   "execution_count": 43,
   "metadata": {},
   "outputs": [],
   "source": [
    "xml = '''<?xml version=\"1.0\"?>\n",
    "<ItemSearchResponse>\n",
    "  <Items>\n",
    "    <Item>\n",
    "      <ItemAttributes>\n",
    "        <ListPrice>\n",
    "          <Amount>2260</Amount>\n",
    "        </ListPrice>\n",
    "      </ItemAttributes>\n",
    "      <Offers>\n",
    "        <Offer>\n",
    "          <OfferListing>\n",
    "            <Price>\n",
    "              <Amount>1853</Amount>\n",
    "            </Price>\n",
    "          </OfferListing>\n",
    "        </Offer>\n",
    "      </Offers>\n",
    "    </Item>\n",
    "        <Item>\n",
    "      <ItemAttributes>\n",
    "        <ListPrice>\n",
    "          <Amount>3312</Amount>\n",
    "        </ListPrice>\n",
    "      </ItemAttributes>\n",
    "      <Offers>\n",
    "        <Offer>\n",
    "          <OfferListing>\n",
    "            <Price>\n",
    "              <Amount>1853</Amount>\n",
    "            </Price>\n",
    "          </OfferListing>\n",
    "        </Offer>\n",
    "      </Offers>\n",
    "    </Item>\n",
    "  </Items>\n",
    "</ItemSearchResponse>'''\n",
    "\n",
    "with open(\"xpath.xml\",'w') as f:\n",
    "    f.write(xml)"
   ]
  },
  {
   "cell_type": "code",
   "execution_count": 44,
   "metadata": {},
   "outputs": [],
   "source": [
    "fp = open(\"xpath.xml\",'r')"
   ]
  },
  {
   "cell_type": "code",
   "execution_count": 45,
   "metadata": {},
   "outputs": [],
   "source": [
    "root = ElementTree().parse(fp)"
   ]
  },
  {
   "cell_type": "code",
   "execution_count": 46,
   "metadata": {},
   "outputs": [
    {
     "name": "stdout",
     "output_type": "stream",
     "text": [
      "2260\n",
      "3312\n"
     ]
    }
   ],
   "source": [
    "elements = root.findall('Items/Item/ItemAttributes/ListPrice/Amount')\n",
    "for i in elements:\n",
    "    print(i.text)"
   ]
  },
  {
   "cell_type": "markdown",
   "metadata": {},
   "source": [
    "### Handling XML Exceptions\n",
    "XML operations can throw exceptions. These should be handled with try-except blocks"
   ]
  },
  {
   "cell_type": "code",
   "execution_count": 47,
   "metadata": {},
   "outputs": [
    {
     "name": "stdout",
     "output_type": "stream",
     "text": [
      "[ContactRecord(first='Tom', last='Smith', age='53', email='tsmith@boo.com'), ContactRecord(first='Phil', last='Hammer', age='42', email='phammer@boo.com'), ContactRecord(first='Jessica', last='Rest', age='33', email='jrest@goo.com'), ContactRecord(first='Mary', last='Fast', age='22', email='mfast@boo.com')]\n"
     ]
    }
   ],
   "source": [
    "try:\n",
    "    tree = ElementTree().parse('results.xml')\n",
    "except ParseError as e:\n",
    "    print('Parse error: {err}'.format(err=e))\n",
    "    sys.exit()\n",
    "\n",
    "contacts = []\n",
    "\n",
    "for contact in tree.getiterator('contact'):\n",
    "    try:\n",
    "        first = contact.find('.//first').text\n",
    "        last = contact.find('.//last').text\n",
    "        age = contact.find('./name').get('age')\n",
    "        email = contact.find('.//email').text\n",
    "        contacts.append(Contact(first, last, age, email))\n",
    "    except AttributeError as e:\n",
    "        print('Element error: {err}'.format(err=e))\n",
    "print(contacts)"
   ]
  },
  {
   "cell_type": "code",
   "execution_count": 48,
   "metadata": {},
   "outputs": [],
   "source": [
    "### Read XML into Pandas DataFrame"
   ]
  },
  {
   "cell_type": "code",
   "execution_count": 49,
   "metadata": {},
   "outputs": [],
   "source": [
    "cols = ['first', 'last','age', 'email']\n",
    "dt = [str,str,int,str]\n",
    "xml_df = pd.DataFrame(columns = cols,dtype=str)\n",
    "\n",
    "try:\n",
    "    tree = ElementTree().parse('results.xml')\n",
    "except ParseError as e:\n",
    "    print('Parse error: {err}'.format(err=e))\n",
    "    sys.exit()\n",
    "\n",
    "for contact in tree.getiterator('contact'):\n",
    "    try:\n",
    "        first = contact.find('.//first').text\n",
    "        last = contact.find('.//last').text\n",
    "        age = contact.find('./name').get('age')\n",
    "        email = contact.find('.//email').text\n",
    "        xml_df = xml_df.append(\n",
    "            pd.Series([first, last, age, email],index=cols),\n",
    "            ignore_index=True)\n",
    "    except AttributeError as e:\n",
    "        print('Element error: {err}'.format(err=e))"
   ]
  },
  {
   "cell_type": "code",
   "execution_count": 50,
   "metadata": {},
   "outputs": [
    {
     "data": {
      "text/html": [
       "<div>\n",
       "<style scoped>\n",
       "    .dataframe tbody tr th:only-of-type {\n",
       "        vertical-align: middle;\n",
       "    }\n",
       "\n",
       "    .dataframe tbody tr th {\n",
       "        vertical-align: top;\n",
       "    }\n",
       "\n",
       "    .dataframe thead th {\n",
       "        text-align: right;\n",
       "    }\n",
       "</style>\n",
       "<table border=\"1\" class=\"dataframe\">\n",
       "  <thead>\n",
       "    <tr style=\"text-align: right;\">\n",
       "      <th></th>\n",
       "      <th>first</th>\n",
       "      <th>last</th>\n",
       "      <th>age</th>\n",
       "      <th>email</th>\n",
       "    </tr>\n",
       "  </thead>\n",
       "  <tbody>\n",
       "    <tr>\n",
       "      <th>0</th>\n",
       "      <td>Tom</td>\n",
       "      <td>Smith</td>\n",
       "      <td>53</td>\n",
       "      <td>tsmith@boo.com</td>\n",
       "    </tr>\n",
       "    <tr>\n",
       "      <th>1</th>\n",
       "      <td>Phil</td>\n",
       "      <td>Hammer</td>\n",
       "      <td>42</td>\n",
       "      <td>phammer@boo.com</td>\n",
       "    </tr>\n",
       "    <tr>\n",
       "      <th>2</th>\n",
       "      <td>Jessica</td>\n",
       "      <td>Rest</td>\n",
       "      <td>33</td>\n",
       "      <td>jrest@goo.com</td>\n",
       "    </tr>\n",
       "    <tr>\n",
       "      <th>3</th>\n",
       "      <td>Mary</td>\n",
       "      <td>Fast</td>\n",
       "      <td>22</td>\n",
       "      <td>mfast@boo.com</td>\n",
       "    </tr>\n",
       "  </tbody>\n",
       "</table>\n",
       "</div>"
      ],
      "text/plain": [
       "     first    last age            email\n",
       "0      Tom   Smith  53   tsmith@boo.com\n",
       "1     Phil  Hammer  42  phammer@boo.com\n",
       "2  Jessica    Rest  33    jrest@goo.com\n",
       "3     Mary    Fast  22    mfast@boo.com"
      ]
     },
     "execution_count": 50,
     "metadata": {},
     "output_type": "execute_result"
    }
   ],
   "source": [
    "xml_df"
   ]
  },
  {
   "cell_type": "code",
   "execution_count": 51,
   "metadata": {},
   "outputs": [],
   "source": [
    "### Convert XML to JSON with xmltodict¶"
   ]
  },
  {
   "cell_type": "code",
   "execution_count": 52,
   "metadata": {},
   "outputs": [
    {
     "name": "stdout",
     "output_type": "stream",
     "text": [
      "OrderedDict([('contacts', OrderedDict([('contact', [OrderedDict([('email', 'tsmith@boo.com'), ('name', OrderedDict([('@age', '53'), ('first', 'Tom'), ('last', 'Smith')]))]), OrderedDict([('email', 'phammer@boo.com'), ('name', OrderedDict([('@age', '42'), ('first', 'Phil'), ('last', 'Hammer')]))]), OrderedDict([('email', 'jrest@goo.com'), ('name', OrderedDict([('@age', '33'), ('first', 'Jessica'), ('last', 'Rest')]))]), OrderedDict([('email', 'mfast@boo.com'), ('name', OrderedDict([('@age', '22'), ('first', 'Mary'), ('last', 'Fast')]))])])]))])\n",
      "\n",
      "{\"contacts\": {\"contact\": [{\"email\": \"tsmith@boo.com\", \"name\": {\"@age\": \"53\", \"first\": \"Tom\", \"last\": \"Smith\"}}, {\"email\": \"phammer@boo.com\", \"name\": {\"@age\": \"42\", \"first\": \"Phil\", \"last\": \"Hammer\"}}, {\"email\": \"jrest@goo.com\", \"name\": {\"@age\": \"33\", \"first\": \"Jessica\", \"last\": \"Rest\"}}, {\"email\": \"mfast@boo.com\", \"name\": {\"@age\": \"22\", \"first\": \"Mary\", \"last\": \"Fast\"}}]}}\n"
     ]
    }
   ],
   "source": [
    "with open('results.xml') as f:\n",
    "    xml_input = f.read()\n",
    "print(xmltodict.parse(xml_input))\n",
    "print()\n",
    "print(json.dumps(xmltodict.parse(xml_input)))"
   ]
  },
  {
   "cell_type": "code",
   "execution_count": 53,
   "metadata": {
    "scrolled": true
   },
   "outputs": [
    {
     "data": {
      "text/plain": [
       "{'contacts': {'contact': [{'email': 'tsmith@boo.com',\n",
       "    'name': {'@age': '53', 'first': 'Tom', 'last': 'Smith'}},\n",
       "   {'email': 'phammer@boo.com',\n",
       "    'name': {'@age': '42', 'first': 'Phil', 'last': 'Hammer'}},\n",
       "   {'email': 'jrest@goo.com',\n",
       "    'name': {'@age': '33', 'first': 'Jessica', 'last': 'Rest'}},\n",
       "   {'email': 'mfast@boo.com',\n",
       "    'name': {'@age': '22', 'first': 'Mary', 'last': 'Fast'}}]}}"
      ]
     },
     "execution_count": 53,
     "metadata": {},
     "output_type": "execute_result"
    }
   ],
   "source": [
    "json.loads(json.dumps(xmltodict.parse(xml_input)))"
   ]
  },
  {
   "cell_type": "code",
   "execution_count": 55,
   "metadata": {},
   "outputs": [],
   "source": [
    "json.loads?"
   ]
  },
  {
   "cell_type": "code",
   "execution_count": null,
   "metadata": {},
   "outputs": [],
   "source": []
  }
 ],
 "metadata": {
  "kernelspec": {
   "display_name": "Python 3",
   "language": "python",
   "name": "python3"
  },
  "language_info": {
   "codemirror_mode": {
    "name": "ipython",
    "version": 3
   },
   "file_extension": ".py",
   "mimetype": "text/x-python",
   "name": "python",
   "nbconvert_exporter": "python",
   "pygments_lexer": "ipython3",
   "version": "3.7.1"
  }
 },
 "nbformat": 4,
 "nbformat_minor": 2
}
