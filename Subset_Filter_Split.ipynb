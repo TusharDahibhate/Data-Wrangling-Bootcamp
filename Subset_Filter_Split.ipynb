{
 "cells": [
  {
   "cell_type": "code",
   "execution_count": 1,
   "metadata": {},
   "outputs": [],
   "source": [
    "# Install ggplot"
   ]
  },
  {
   "cell_type": "code",
   "execution_count": 1,
   "metadata": {},
   "outputs": [],
   "source": [
    "## Loading relevant packages\n",
    "\n",
    "import pandas as pd"
   ]
  },
  {
   "cell_type": "code",
   "execution_count": 34,
   "metadata": {},
   "outputs": [],
   "source": [
    "from ggplot import diamonds\n",
    "import matplotlib.pyplot as plt\n",
    "import numpy as np"
   ]
  },
  {
   "cell_type": "markdown",
   "metadata": {},
   "source": [
    "One of the important data wrangling steps is to select some parts of the data of interest from the whole data set. There are a number of ways to accomplish this task:\n",
    "\n",
    "- selecting (keeping) variables of interest\n",
    "- excluding (dropping) variables of interest\n",
    "- filtering or conditional subsetting:\n",
    "    - a set of conditions (or filter) is imposed on a set variables (i.e., columns) of interest (e.g., AGE > 55 & SEX == 'F') and\n",
    "    - every case (i.e., row) that satisfies all those conditions, or passes the filter, is included into the target subset\n",
    "- splitting:\n",
    "    - the entire data set is split into two or more subsets\n",
    "    - e.g., 90% cases are randomly selected as a train subset and the remaining 10% cases are then assigned to the test subset\n"
   ]
  },
  {
   "cell_type": "markdown",
   "metadata": {},
   "source": [
    "# Getting familiar with the data"
   ]
  },
  {
   "cell_type": "code",
   "execution_count": 40,
   "metadata": {},
   "outputs": [],
   "source": [
    "census = pd.read_csv('data_raw/census_us.csv')"
   ]
  },
  {
   "cell_type": "code",
   "execution_count": 8,
   "metadata": {},
   "outputs": [
    {
     "data": {
      "text/plain": [
       "(6279, 288)"
      ]
     },
     "execution_count": 8,
     "metadata": {},
     "output_type": "execute_result"
    }
   ],
   "source": [
    "census.shape"
   ]
  },
  {
   "cell_type": "code",
   "execution_count": 9,
   "metadata": {},
   "outputs": [
    {
     "data": {
      "text/html": [
       "<div>\n",
       "<style scoped>\n",
       "    .dataframe tbody tr th:only-of-type {\n",
       "        vertical-align: middle;\n",
       "    }\n",
       "\n",
       "    .dataframe tbody tr th {\n",
       "        vertical-align: top;\n",
       "    }\n",
       "\n",
       "    .dataframe thead th {\n",
       "        text-align: right;\n",
       "    }\n",
       "</style>\n",
       "<table border=\"1\" class=\"dataframe\">\n",
       "  <thead>\n",
       "    <tr style=\"text-align: right;\">\n",
       "      <th></th>\n",
       "      <th>ORIGFILEROWNUMBER</th>\n",
       "      <th>ORIGFILENAME</th>\n",
       "      <th>ORIGINSERTTIME</th>\n",
       "      <th>ORIGRANDGROUP</th>\n",
       "      <th>RT</th>\n",
       "      <th>SERIALNO</th>\n",
       "      <th>SPORDER</th>\n",
       "      <th>PUMA</th>\n",
       "      <th>ST</th>\n",
       "      <th>ADJINC</th>\n",
       "      <th>...</th>\n",
       "      <th>PWGTP71</th>\n",
       "      <th>PWGTP72</th>\n",
       "      <th>PWGTP73</th>\n",
       "      <th>PWGTP74</th>\n",
       "      <th>PWGTP75</th>\n",
       "      <th>PWGTP76</th>\n",
       "      <th>PWGTP77</th>\n",
       "      <th>PWGTP78</th>\n",
       "      <th>PWGTP79</th>\n",
       "      <th>PWGTP80</th>\n",
       "    </tr>\n",
       "  </thead>\n",
       "  <tbody>\n",
       "    <tr>\n",
       "      <th>0</th>\n",
       "      <td>1</td>\n",
       "      <td>file:csv_pus/ss11pusa.csv.gz</td>\n",
       "      <td>2013-02-12 17:04:40.875</td>\n",
       "      <td>2</td>\n",
       "      <td>P</td>\n",
       "      <td>19</td>\n",
       "      <td>1</td>\n",
       "      <td>1400</td>\n",
       "      <td>1</td>\n",
       "      <td>1018237</td>\n",
       "      <td>...</td>\n",
       "      <td>5</td>\n",
       "      <td>60</td>\n",
       "      <td>118</td>\n",
       "      <td>63</td>\n",
       "      <td>66</td>\n",
       "      <td>120</td>\n",
       "      <td>63</td>\n",
       "      <td>5</td>\n",
       "      <td>6</td>\n",
       "      <td>5</td>\n",
       "    </tr>\n",
       "    <tr>\n",
       "      <th>1</th>\n",
       "      <td>386</td>\n",
       "      <td>file:csv_pus/ss11pusa.csv.gz</td>\n",
       "      <td>2013-02-12 17:04:40.875</td>\n",
       "      <td>327</td>\n",
       "      <td>P</td>\n",
       "      <td>10374</td>\n",
       "      <td>1</td>\n",
       "      <td>1500</td>\n",
       "      <td>1</td>\n",
       "      <td>1018237</td>\n",
       "      <td>...</td>\n",
       "      <td>95</td>\n",
       "      <td>259</td>\n",
       "      <td>284</td>\n",
       "      <td>68</td>\n",
       "      <td>78</td>\n",
       "      <td>187</td>\n",
       "      <td>268</td>\n",
       "      <td>423</td>\n",
       "      <td>211</td>\n",
       "      <td>220</td>\n",
       "    </tr>\n",
       "    <tr>\n",
       "      <th>2</th>\n",
       "      <td>387</td>\n",
       "      <td>file:csv_pus/ss11pusa.csv.gz</td>\n",
       "      <td>2013-02-12 17:04:40.875</td>\n",
       "      <td>789</td>\n",
       "      <td>P</td>\n",
       "      <td>10374</td>\n",
       "      <td>2</td>\n",
       "      <td>1500</td>\n",
       "      <td>1</td>\n",
       "      <td>1018237</td>\n",
       "      <td>...</td>\n",
       "      <td>78</td>\n",
       "      <td>259</td>\n",
       "      <td>352</td>\n",
       "      <td>87</td>\n",
       "      <td>84</td>\n",
       "      <td>197</td>\n",
       "      <td>258</td>\n",
       "      <td>291</td>\n",
       "      <td>167</td>\n",
       "      <td>192</td>\n",
       "    </tr>\n",
       "    <tr>\n",
       "      <th>3</th>\n",
       "      <td>388</td>\n",
       "      <td>file:csv_pus/ss11pusa.csv.gz</td>\n",
       "      <td>2013-02-12 17:04:40.875</td>\n",
       "      <td>886</td>\n",
       "      <td>P</td>\n",
       "      <td>10374</td>\n",
       "      <td>3</td>\n",
       "      <td>1500</td>\n",
       "      <td>1</td>\n",
       "      <td>1018237</td>\n",
       "      <td>...</td>\n",
       "      <td>54</td>\n",
       "      <td>155</td>\n",
       "      <td>301</td>\n",
       "      <td>61</td>\n",
       "      <td>57</td>\n",
       "      <td>180</td>\n",
       "      <td>141</td>\n",
       "      <td>294</td>\n",
       "      <td>175</td>\n",
       "      <td>143</td>\n",
       "    </tr>\n",
       "    <tr>\n",
       "      <th>4</th>\n",
       "      <td>515</td>\n",
       "      <td>file:csv_pus/ss11pusa.csv.gz</td>\n",
       "      <td>2013-02-12 17:04:40.875</td>\n",
       "      <td>292</td>\n",
       "      <td>P</td>\n",
       "      <td>14299</td>\n",
       "      <td>1</td>\n",
       "      <td>2600</td>\n",
       "      <td>1</td>\n",
       "      <td>1018237</td>\n",
       "      <td>...</td>\n",
       "      <td>15</td>\n",
       "      <td>19</td>\n",
       "      <td>18</td>\n",
       "      <td>31</td>\n",
       "      <td>18</td>\n",
       "      <td>5</td>\n",
       "      <td>30</td>\n",
       "      <td>18</td>\n",
       "      <td>31</td>\n",
       "      <td>30</td>\n",
       "    </tr>\n",
       "  </tbody>\n",
       "</table>\n",
       "<p>5 rows × 288 columns</p>\n",
       "</div>"
      ],
      "text/plain": [
       "   ORIGFILEROWNUMBER                  ORIGFILENAME           ORIGINSERTTIME  \\\n",
       "0                  1  file:csv_pus/ss11pusa.csv.gz  2013-02-12 17:04:40.875   \n",
       "1                386  file:csv_pus/ss11pusa.csv.gz  2013-02-12 17:04:40.875   \n",
       "2                387  file:csv_pus/ss11pusa.csv.gz  2013-02-12 17:04:40.875   \n",
       "3                388  file:csv_pus/ss11pusa.csv.gz  2013-02-12 17:04:40.875   \n",
       "4                515  file:csv_pus/ss11pusa.csv.gz  2013-02-12 17:04:40.875   \n",
       "\n",
       "   ORIGRANDGROUP RT  SERIALNO  SPORDER  PUMA  ST   ADJINC   ...     PWGTP71  \\\n",
       "0              2  P        19        1  1400   1  1018237   ...           5   \n",
       "1            327  P     10374        1  1500   1  1018237   ...          95   \n",
       "2            789  P     10374        2  1500   1  1018237   ...          78   \n",
       "3            886  P     10374        3  1500   1  1018237   ...          54   \n",
       "4            292  P     14299        1  2600   1  1018237   ...          15   \n",
       "\n",
       "   PWGTP72  PWGTP73  PWGTP74  PWGTP75  PWGTP76  PWGTP77  PWGTP78  PWGTP79  \\\n",
       "0       60      118       63       66      120       63        5        6   \n",
       "1      259      284       68       78      187      268      423      211   \n",
       "2      259      352       87       84      197      258      291      167   \n",
       "3      155      301       61       57      180      141      294      175   \n",
       "4       19       18       31       18        5       30       18       31   \n",
       "\n",
       "   PWGTP80  \n",
       "0        5  \n",
       "1      220  \n",
       "2      192  \n",
       "3      143  \n",
       "4       30  \n",
       "\n",
       "[5 rows x 288 columns]"
      ]
     },
     "execution_count": 9,
     "metadata": {},
     "output_type": "execute_result"
    }
   ],
   "source": [
    "census.head()"
   ]
  },
  {
   "cell_type": "markdown",
   "metadata": {},
   "source": [
    "- AGEP: A person age\n",
    "- COW: Employment class, such as for-profit company, nonprofit company\n",
    "- SCHL: Education level such as no high school diploma, high school, college\n",
    "- SEX: Sex of worker\n",
    "\n",
    "Examine the summary statistics only for a select subset of variables of interest using all the rows for each of these variables:"
   ]
  },
  {
   "cell_type": "code",
   "execution_count": 13,
   "metadata": {},
   "outputs": [],
   "source": [
    "var1 = [\"AGEP\", \"COW\", \"SCHL\", \"SEX\",\n",
    "         \"PINCP\", \"ESR\", \"PERNP\", \"WKHP\",  \"PWGTP1\"]"
   ]
  },
  {
   "cell_type": "code",
   "execution_count": 16,
   "metadata": {},
   "outputs": [
    {
     "data": {
      "text/html": [
       "<div>\n",
       "<style scoped>\n",
       "    .dataframe tbody tr th:only-of-type {\n",
       "        vertical-align: middle;\n",
       "    }\n",
       "\n",
       "    .dataframe tbody tr th {\n",
       "        vertical-align: top;\n",
       "    }\n",
       "\n",
       "    .dataframe thead th {\n",
       "        text-align: right;\n",
       "    }\n",
       "</style>\n",
       "<table border=\"1\" class=\"dataframe\">\n",
       "  <thead>\n",
       "    <tr style=\"text-align: right;\">\n",
       "      <th></th>\n",
       "      <th>AGEP</th>\n",
       "      <th>COW</th>\n",
       "      <th>SCHL</th>\n",
       "      <th>SEX</th>\n",
       "      <th>PINCP</th>\n",
       "      <th>ESR</th>\n",
       "      <th>PERNP</th>\n",
       "      <th>WKHP</th>\n",
       "      <th>PWGTP1</th>\n",
       "    </tr>\n",
       "  </thead>\n",
       "  <tbody>\n",
       "    <tr>\n",
       "      <th>count</th>\n",
       "      <td>6279.000000</td>\n",
       "      <td>3668.000000</td>\n",
       "      <td>6049.000000</td>\n",
       "      <td>6279.000000</td>\n",
       "      <td>5194.000000</td>\n",
       "      <td>5110.000000</td>\n",
       "      <td>5110.000000</td>\n",
       "      <td>3100.000000</td>\n",
       "      <td>6279.000000</td>\n",
       "    </tr>\n",
       "    <tr>\n",
       "      <th>mean</th>\n",
       "      <td>40.201306</td>\n",
       "      <td>2.182388</td>\n",
       "      <td>15.637130</td>\n",
       "      <td>1.511546</td>\n",
       "      <td>31274.562957</td>\n",
       "      <td>3.155186</td>\n",
       "      <td>23777.825832</td>\n",
       "      <td>37.400323</td>\n",
       "      <td>103.001433</td>\n",
       "    </tr>\n",
       "    <tr>\n",
       "      <th>std</th>\n",
       "      <td>23.686748</td>\n",
       "      <td>1.987072</td>\n",
       "      <td>5.532888</td>\n",
       "      <td>0.499906</td>\n",
       "      <td>44562.881290</td>\n",
       "      <td>2.390279</td>\n",
       "      <td>42747.538383</td>\n",
       "      <td>13.333320</td>\n",
       "      <td>111.154927</td>\n",
       "    </tr>\n",
       "    <tr>\n",
       "      <th>min</th>\n",
       "      <td>0.000000</td>\n",
       "      <td>1.000000</td>\n",
       "      <td>1.000000</td>\n",
       "      <td>1.000000</td>\n",
       "      <td>-8700.000000</td>\n",
       "      <td>1.000000</td>\n",
       "      <td>-8700.000000</td>\n",
       "      <td>1.000000</td>\n",
       "      <td>0.000000</td>\n",
       "    </tr>\n",
       "    <tr>\n",
       "      <th>25%</th>\n",
       "      <td>20.000000</td>\n",
       "      <td>1.000000</td>\n",
       "      <td>13.000000</td>\n",
       "      <td>1.000000</td>\n",
       "      <td>6000.000000</td>\n",
       "      <td>1.000000</td>\n",
       "      <td>0.000000</td>\n",
       "      <td>31.000000</td>\n",
       "      <td>33.000000</td>\n",
       "    </tr>\n",
       "    <tr>\n",
       "      <th>50%</th>\n",
       "      <td>40.000000</td>\n",
       "      <td>1.000000</td>\n",
       "      <td>16.000000</td>\n",
       "      <td>2.000000</td>\n",
       "      <td>19000.000000</td>\n",
       "      <td>1.000000</td>\n",
       "      <td>7000.000000</td>\n",
       "      <td>40.000000</td>\n",
       "      <td>70.000000</td>\n",
       "    </tr>\n",
       "    <tr>\n",
       "      <th>75%</th>\n",
       "      <td>59.000000</td>\n",
       "      <td>3.000000</td>\n",
       "      <td>19.000000</td>\n",
       "      <td>2.000000</td>\n",
       "      <td>40000.000000</td>\n",
       "      <td>6.000000</td>\n",
       "      <td>33000.000000</td>\n",
       "      <td>40.000000</td>\n",
       "      <td>130.000000</td>\n",
       "    </tr>\n",
       "    <tr>\n",
       "      <th>max</th>\n",
       "      <td>95.000000</td>\n",
       "      <td>9.000000</td>\n",
       "      <td>24.000000</td>\n",
       "      <td>2.000000</td>\n",
       "      <td>570000.000000</td>\n",
       "      <td>6.000000</td>\n",
       "      <td>507000.000000</td>\n",
       "      <td>99.000000</td>\n",
       "      <td>1624.000000</td>\n",
       "    </tr>\n",
       "  </tbody>\n",
       "</table>\n",
       "</div>"
      ],
      "text/plain": [
       "              AGEP          COW         SCHL          SEX          PINCP  \\\n",
       "count  6279.000000  3668.000000  6049.000000  6279.000000    5194.000000   \n",
       "mean     40.201306     2.182388    15.637130     1.511546   31274.562957   \n",
       "std      23.686748     1.987072     5.532888     0.499906   44562.881290   \n",
       "min       0.000000     1.000000     1.000000     1.000000   -8700.000000   \n",
       "25%      20.000000     1.000000    13.000000     1.000000    6000.000000   \n",
       "50%      40.000000     1.000000    16.000000     2.000000   19000.000000   \n",
       "75%      59.000000     3.000000    19.000000     2.000000   40000.000000   \n",
       "max      95.000000     9.000000    24.000000     2.000000  570000.000000   \n",
       "\n",
       "               ESR          PERNP         WKHP       PWGTP1  \n",
       "count  5110.000000    5110.000000  3100.000000  6279.000000  \n",
       "mean      3.155186   23777.825832    37.400323   103.001433  \n",
       "std       2.390279   42747.538383    13.333320   111.154927  \n",
       "min       1.000000   -8700.000000     1.000000     0.000000  \n",
       "25%       1.000000       0.000000    31.000000    33.000000  \n",
       "50%       1.000000    7000.000000    40.000000    70.000000  \n",
       "75%       6.000000   33000.000000    40.000000   130.000000  \n",
       "max       6.000000  507000.000000    99.000000  1624.000000  "
      ]
     },
     "execution_count": 16,
     "metadata": {},
     "output_type": "execute_result"
    }
   ],
   "source": [
    "census[var1].describe()"
   ]
  },
  {
   "cell_type": "markdown",
   "metadata": {},
   "source": [
    "# Selecting Columns\n",
    "\n",
    "There are several ways to select a subset of data that keeps only the variables (columns) of interest for all the rows:\n"
   ]
  },
  {
   "cell_type": "markdown",
   "metadata": {},
   "source": [
    "#### Specify the vector of these variables names as column indices:"
   ]
  },
  {
   "cell_type": "code",
   "execution_count": 18,
   "metadata": {},
   "outputs": [],
   "source": [
    "var2 = [\"AGEP\", \"COW\", \"SCHL\", \"SEX\",\n",
    "         \"PINCP\", \"ESR\", \"PERNP\", \"WKHP\",  \"PWGTP1\"]"
   ]
  },
  {
   "cell_type": "code",
   "execution_count": 19,
   "metadata": {},
   "outputs": [],
   "source": [
    "new_census = census[var2]"
   ]
  },
  {
   "cell_type": "code",
   "execution_count": 20,
   "metadata": {},
   "outputs": [
    {
     "data": {
      "text/plain": [
       "(6279, 9)"
      ]
     },
     "execution_count": 20,
     "metadata": {},
     "output_type": "execute_result"
    }
   ],
   "source": [
    "new_census.shape"
   ]
  },
  {
   "cell_type": "code",
   "execution_count": 21,
   "metadata": {},
   "outputs": [
    {
     "data": {
      "text/html": [
       "<div>\n",
       "<style scoped>\n",
       "    .dataframe tbody tr th:only-of-type {\n",
       "        vertical-align: middle;\n",
       "    }\n",
       "\n",
       "    .dataframe tbody tr th {\n",
       "        vertical-align: top;\n",
       "    }\n",
       "\n",
       "    .dataframe thead th {\n",
       "        text-align: right;\n",
       "    }\n",
       "</style>\n",
       "<table border=\"1\" class=\"dataframe\">\n",
       "  <thead>\n",
       "    <tr style=\"text-align: right;\">\n",
       "      <th></th>\n",
       "      <th>AGEP</th>\n",
       "      <th>COW</th>\n",
       "      <th>SCHL</th>\n",
       "      <th>SEX</th>\n",
       "      <th>PINCP</th>\n",
       "      <th>ESR</th>\n",
       "      <th>PERNP</th>\n",
       "      <th>WKHP</th>\n",
       "      <th>PWGTP1</th>\n",
       "    </tr>\n",
       "  </thead>\n",
       "  <tbody>\n",
       "    <tr>\n",
       "      <th>0</th>\n",
       "      <td>19</td>\n",
       "      <td>NaN</td>\n",
       "      <td>19.0</td>\n",
       "      <td>2</td>\n",
       "      <td>0.0</td>\n",
       "      <td>6.0</td>\n",
       "      <td>0.0</td>\n",
       "      <td>NaN</td>\n",
       "      <td>5</td>\n",
       "    </tr>\n",
       "    <tr>\n",
       "      <th>1</th>\n",
       "      <td>43</td>\n",
       "      <td>1.0</td>\n",
       "      <td>19.0</td>\n",
       "      <td>1</td>\n",
       "      <td>22900.0</td>\n",
       "      <td>1.0</td>\n",
       "      <td>22900.0</td>\n",
       "      <td>40.0</td>\n",
       "      <td>233</td>\n",
       "    </tr>\n",
       "    <tr>\n",
       "      <th>2</th>\n",
       "      <td>51</td>\n",
       "      <td>3.0</td>\n",
       "      <td>16.0</td>\n",
       "      <td>2</td>\n",
       "      <td>17800.0</td>\n",
       "      <td>1.0</td>\n",
       "      <td>17800.0</td>\n",
       "      <td>35.0</td>\n",
       "      <td>242</td>\n",
       "    </tr>\n",
       "    <tr>\n",
       "      <th>3</th>\n",
       "      <td>16</td>\n",
       "      <td>NaN</td>\n",
       "      <td>13.0</td>\n",
       "      <td>1</td>\n",
       "      <td>3400.0</td>\n",
       "      <td>6.0</td>\n",
       "      <td>0.0</td>\n",
       "      <td>NaN</td>\n",
       "      <td>172</td>\n",
       "    </tr>\n",
       "    <tr>\n",
       "      <th>4</th>\n",
       "      <td>55</td>\n",
       "      <td>1.0</td>\n",
       "      <td>19.0</td>\n",
       "      <td>1</td>\n",
       "      <td>56800.0</td>\n",
       "      <td>1.0</td>\n",
       "      <td>20800.0</td>\n",
       "      <td>50.0</td>\n",
       "      <td>18</td>\n",
       "    </tr>\n",
       "  </tbody>\n",
       "</table>\n",
       "</div>"
      ],
      "text/plain": [
       "   AGEP  COW  SCHL  SEX    PINCP  ESR    PERNP  WKHP  PWGTP1\n",
       "0    19  NaN  19.0    2      0.0  6.0      0.0   NaN       5\n",
       "1    43  1.0  19.0    1  22900.0  1.0  22900.0  40.0     233\n",
       "2    51  3.0  16.0    2  17800.0  1.0  17800.0  35.0     242\n",
       "3    16  NaN  13.0    1   3400.0  6.0      0.0   NaN     172\n",
       "4    55  1.0  19.0    1  56800.0  1.0  20800.0  50.0      18"
      ]
     },
     "execution_count": 21,
     "metadata": {},
     "output_type": "execute_result"
    }
   ],
   "source": [
    "new_census.head()"
   ]
  },
  {
   "cell_type": "markdown",
   "metadata": {},
   "source": [
    "#### Subset with df.filter() method:"
   ]
  },
  {
   "cell_type": "code",
   "execution_count": 22,
   "metadata": {},
   "outputs": [],
   "source": [
    "census_new = census.filter?"
   ]
  },
  {
   "cell_type": "code",
   "execution_count": 23,
   "metadata": {},
   "outputs": [],
   "source": [
    "census_new = census.filter(items = vars_2_keep)"
   ]
  },
  {
   "cell_type": "code",
   "execution_count": 25,
   "metadata": {},
   "outputs": [
    {
     "data": {
      "text/html": [
       "<div>\n",
       "<style scoped>\n",
       "    .dataframe tbody tr th:only-of-type {\n",
       "        vertical-align: middle;\n",
       "    }\n",
       "\n",
       "    .dataframe tbody tr th {\n",
       "        vertical-align: top;\n",
       "    }\n",
       "\n",
       "    .dataframe thead th {\n",
       "        text-align: right;\n",
       "    }\n",
       "</style>\n",
       "<table border=\"1\" class=\"dataframe\">\n",
       "  <thead>\n",
       "    <tr style=\"text-align: right;\">\n",
       "      <th></th>\n",
       "      <th>AGEP</th>\n",
       "      <th>COW</th>\n",
       "      <th>SCHL</th>\n",
       "      <th>SEX</th>\n",
       "      <th>PINCP</th>\n",
       "      <th>ESR</th>\n",
       "      <th>PERNP</th>\n",
       "      <th>WKHP</th>\n",
       "      <th>PWGTP1</th>\n",
       "    </tr>\n",
       "  </thead>\n",
       "  <tbody>\n",
       "    <tr>\n",
       "      <th>0</th>\n",
       "      <td>19</td>\n",
       "      <td>NaN</td>\n",
       "      <td>19.0</td>\n",
       "      <td>2</td>\n",
       "      <td>0.0</td>\n",
       "      <td>6.0</td>\n",
       "      <td>0.0</td>\n",
       "      <td>NaN</td>\n",
       "      <td>5</td>\n",
       "    </tr>\n",
       "    <tr>\n",
       "      <th>1</th>\n",
       "      <td>43</td>\n",
       "      <td>1.0</td>\n",
       "      <td>19.0</td>\n",
       "      <td>1</td>\n",
       "      <td>22900.0</td>\n",
       "      <td>1.0</td>\n",
       "      <td>22900.0</td>\n",
       "      <td>40.0</td>\n",
       "      <td>233</td>\n",
       "    </tr>\n",
       "    <tr>\n",
       "      <th>2</th>\n",
       "      <td>51</td>\n",
       "      <td>3.0</td>\n",
       "      <td>16.0</td>\n",
       "      <td>2</td>\n",
       "      <td>17800.0</td>\n",
       "      <td>1.0</td>\n",
       "      <td>17800.0</td>\n",
       "      <td>35.0</td>\n",
       "      <td>242</td>\n",
       "    </tr>\n",
       "    <tr>\n",
       "      <th>3</th>\n",
       "      <td>16</td>\n",
       "      <td>NaN</td>\n",
       "      <td>13.0</td>\n",
       "      <td>1</td>\n",
       "      <td>3400.0</td>\n",
       "      <td>6.0</td>\n",
       "      <td>0.0</td>\n",
       "      <td>NaN</td>\n",
       "      <td>172</td>\n",
       "    </tr>\n",
       "    <tr>\n",
       "      <th>4</th>\n",
       "      <td>55</td>\n",
       "      <td>1.0</td>\n",
       "      <td>19.0</td>\n",
       "      <td>1</td>\n",
       "      <td>56800.0</td>\n",
       "      <td>1.0</td>\n",
       "      <td>20800.0</td>\n",
       "      <td>50.0</td>\n",
       "      <td>18</td>\n",
       "    </tr>\n",
       "  </tbody>\n",
       "</table>\n",
       "</div>"
      ],
      "text/plain": [
       "   AGEP  COW  SCHL  SEX    PINCP  ESR    PERNP  WKHP  PWGTP1\n",
       "0    19  NaN  19.0    2      0.0  6.0      0.0   NaN       5\n",
       "1    43  1.0  19.0    1  22900.0  1.0  22900.0  40.0     233\n",
       "2    51  3.0  16.0    2  17800.0  1.0  17800.0  35.0     242\n",
       "3    16  NaN  13.0    1   3400.0  6.0      0.0   NaN     172\n",
       "4    55  1.0  19.0    1  56800.0  1.0  20800.0  50.0      18"
      ]
     },
     "execution_count": 25,
     "metadata": {},
     "output_type": "execute_result"
    }
   ],
   "source": [
    "census_new.head()"
   ]
  },
  {
   "cell_type": "markdown",
   "metadata": {},
   "source": [
    "# Excluding columns\n",
    "There are many reasons to exclude variables (columns). For example, if a variable has many missing values, you may want to drop it prior to further analyses. There are a number of ways to drop such variables."
   ]
  },
  {
   "cell_type": "markdown",
   "metadata": {},
   "source": [
    "#### Deleting columns for the variables of interest\n"
   ]
  },
  {
   "cell_type": "code",
   "execution_count": 26,
   "metadata": {},
   "outputs": [],
   "source": [
    "del census_new[\"SEX\"]"
   ]
  },
  {
   "cell_type": "code",
   "execution_count": 28,
   "metadata": {},
   "outputs": [
    {
     "data": {
      "text/html": [
       "<div>\n",
       "<style scoped>\n",
       "    .dataframe tbody tr th:only-of-type {\n",
       "        vertical-align: middle;\n",
       "    }\n",
       "\n",
       "    .dataframe tbody tr th {\n",
       "        vertical-align: top;\n",
       "    }\n",
       "\n",
       "    .dataframe thead th {\n",
       "        text-align: right;\n",
       "    }\n",
       "</style>\n",
       "<table border=\"1\" class=\"dataframe\">\n",
       "  <thead>\n",
       "    <tr style=\"text-align: right;\">\n",
       "      <th></th>\n",
       "      <th>AGEP</th>\n",
       "      <th>COW</th>\n",
       "      <th>SCHL</th>\n",
       "      <th>PINCP</th>\n",
       "      <th>ESR</th>\n",
       "      <th>PERNP</th>\n",
       "      <th>WKHP</th>\n",
       "      <th>PWGTP1</th>\n",
       "    </tr>\n",
       "  </thead>\n",
       "  <tbody>\n",
       "    <tr>\n",
       "      <th>0</th>\n",
       "      <td>19</td>\n",
       "      <td>NaN</td>\n",
       "      <td>19.0</td>\n",
       "      <td>0.0</td>\n",
       "      <td>6.0</td>\n",
       "      <td>0.0</td>\n",
       "      <td>NaN</td>\n",
       "      <td>5</td>\n",
       "    </tr>\n",
       "    <tr>\n",
       "      <th>1</th>\n",
       "      <td>43</td>\n",
       "      <td>1.0</td>\n",
       "      <td>19.0</td>\n",
       "      <td>22900.0</td>\n",
       "      <td>1.0</td>\n",
       "      <td>22900.0</td>\n",
       "      <td>40.0</td>\n",
       "      <td>233</td>\n",
       "    </tr>\n",
       "    <tr>\n",
       "      <th>2</th>\n",
       "      <td>51</td>\n",
       "      <td>3.0</td>\n",
       "      <td>16.0</td>\n",
       "      <td>17800.0</td>\n",
       "      <td>1.0</td>\n",
       "      <td>17800.0</td>\n",
       "      <td>35.0</td>\n",
       "      <td>242</td>\n",
       "    </tr>\n",
       "    <tr>\n",
       "      <th>3</th>\n",
       "      <td>16</td>\n",
       "      <td>NaN</td>\n",
       "      <td>13.0</td>\n",
       "      <td>3400.0</td>\n",
       "      <td>6.0</td>\n",
       "      <td>0.0</td>\n",
       "      <td>NaN</td>\n",
       "      <td>172</td>\n",
       "    </tr>\n",
       "    <tr>\n",
       "      <th>4</th>\n",
       "      <td>55</td>\n",
       "      <td>1.0</td>\n",
       "      <td>19.0</td>\n",
       "      <td>56800.0</td>\n",
       "      <td>1.0</td>\n",
       "      <td>20800.0</td>\n",
       "      <td>50.0</td>\n",
       "      <td>18</td>\n",
       "    </tr>\n",
       "  </tbody>\n",
       "</table>\n",
       "</div>"
      ],
      "text/plain": [
       "   AGEP  COW  SCHL    PINCP  ESR    PERNP  WKHP  PWGTP1\n",
       "0    19  NaN  19.0      0.0  6.0      0.0   NaN       5\n",
       "1    43  1.0  19.0  22900.0  1.0  22900.0  40.0     233\n",
       "2    51  3.0  16.0  17800.0  1.0  17800.0  35.0     242\n",
       "3    16  NaN  13.0   3400.0  6.0      0.0   NaN     172\n",
       "4    55  1.0  19.0  56800.0  1.0  20800.0  50.0      18"
      ]
     },
     "execution_count": 28,
     "metadata": {},
     "output_type": "execute_result"
    }
   ],
   "source": [
    "census_new.head()"
   ]
  },
  {
   "cell_type": "markdown",
   "metadata": {},
   "source": [
    "#### Using the df.drop() method:"
   ]
  },
  {
   "cell_type": "code",
   "execution_count": 29,
   "metadata": {},
   "outputs": [],
   "source": [
    "var_to_drop = ['COW', 'WKHP']"
   ]
  },
  {
   "cell_type": "code",
   "execution_count": 32,
   "metadata": {},
   "outputs": [
    {
     "data": {
      "text/html": [
       "<div>\n",
       "<style scoped>\n",
       "    .dataframe tbody tr th:only-of-type {\n",
       "        vertical-align: middle;\n",
       "    }\n",
       "\n",
       "    .dataframe tbody tr th {\n",
       "        vertical-align: top;\n",
       "    }\n",
       "\n",
       "    .dataframe thead th {\n",
       "        text-align: right;\n",
       "    }\n",
       "</style>\n",
       "<table border=\"1\" class=\"dataframe\">\n",
       "  <thead>\n",
       "    <tr style=\"text-align: right;\">\n",
       "      <th></th>\n",
       "      <th>AGEP</th>\n",
       "      <th>SCHL</th>\n",
       "      <th>PINCP</th>\n",
       "      <th>ESR</th>\n",
       "      <th>PERNP</th>\n",
       "      <th>PWGTP1</th>\n",
       "    </tr>\n",
       "  </thead>\n",
       "  <tbody>\n",
       "    <tr>\n",
       "      <th>0</th>\n",
       "      <td>19</td>\n",
       "      <td>19.0</td>\n",
       "      <td>0.0</td>\n",
       "      <td>6.0</td>\n",
       "      <td>0.0</td>\n",
       "      <td>5</td>\n",
       "    </tr>\n",
       "    <tr>\n",
       "      <th>1</th>\n",
       "      <td>43</td>\n",
       "      <td>19.0</td>\n",
       "      <td>22900.0</td>\n",
       "      <td>1.0</td>\n",
       "      <td>22900.0</td>\n",
       "      <td>233</td>\n",
       "    </tr>\n",
       "    <tr>\n",
       "      <th>2</th>\n",
       "      <td>51</td>\n",
       "      <td>16.0</td>\n",
       "      <td>17800.0</td>\n",
       "      <td>1.0</td>\n",
       "      <td>17800.0</td>\n",
       "      <td>242</td>\n",
       "    </tr>\n",
       "    <tr>\n",
       "      <th>3</th>\n",
       "      <td>16</td>\n",
       "      <td>13.0</td>\n",
       "      <td>3400.0</td>\n",
       "      <td>6.0</td>\n",
       "      <td>0.0</td>\n",
       "      <td>172</td>\n",
       "    </tr>\n",
       "    <tr>\n",
       "      <th>4</th>\n",
       "      <td>55</td>\n",
       "      <td>19.0</td>\n",
       "      <td>56800.0</td>\n",
       "      <td>1.0</td>\n",
       "      <td>20800.0</td>\n",
       "      <td>18</td>\n",
       "    </tr>\n",
       "  </tbody>\n",
       "</table>\n",
       "</div>"
      ],
      "text/plain": [
       "   AGEP  SCHL    PINCP  ESR    PERNP  PWGTP1\n",
       "0    19  19.0      0.0  6.0      0.0       5\n",
       "1    43  19.0  22900.0  1.0  22900.0     233\n",
       "2    51  16.0  17800.0  1.0  17800.0     242\n",
       "3    16  13.0   3400.0  6.0      0.0     172\n",
       "4    55  19.0  56800.0  1.0  20800.0      18"
      ]
     },
     "execution_count": 32,
     "metadata": {},
     "output_type": "execute_result"
    }
   ],
   "source": [
    "census_new.drop(var_to_drop, axis = 1).head()"
   ]
  },
  {
   "cell_type": "markdown",
   "metadata": {},
   "source": [
    "# Filtering Rows with filter()"
   ]
  },
  {
   "cell_type": "code",
   "execution_count": 33,
   "metadata": {},
   "outputs": [
    {
     "data": {
      "text/html": [
       "<div>\n",
       "<style scoped>\n",
       "    .dataframe tbody tr th:only-of-type {\n",
       "        vertical-align: middle;\n",
       "    }\n",
       "\n",
       "    .dataframe tbody tr th {\n",
       "        vertical-align: top;\n",
       "    }\n",
       "\n",
       "    .dataframe thead th {\n",
       "        text-align: right;\n",
       "    }\n",
       "</style>\n",
       "<table border=\"1\" class=\"dataframe\">\n",
       "  <thead>\n",
       "    <tr style=\"text-align: right;\">\n",
       "      <th></th>\n",
       "      <th>carat</th>\n",
       "      <th>cut</th>\n",
       "      <th>color</th>\n",
       "      <th>clarity</th>\n",
       "      <th>depth</th>\n",
       "      <th>table</th>\n",
       "      <th>price</th>\n",
       "      <th>x</th>\n",
       "      <th>y</th>\n",
       "      <th>z</th>\n",
       "    </tr>\n",
       "  </thead>\n",
       "  <tbody>\n",
       "    <tr>\n",
       "      <th>0</th>\n",
       "      <td>0.23</td>\n",
       "      <td>Ideal</td>\n",
       "      <td>E</td>\n",
       "      <td>SI2</td>\n",
       "      <td>61.5</td>\n",
       "      <td>55.0</td>\n",
       "      <td>326</td>\n",
       "      <td>3.95</td>\n",
       "      <td>3.98</td>\n",
       "      <td>2.43</td>\n",
       "    </tr>\n",
       "    <tr>\n",
       "      <th>1</th>\n",
       "      <td>0.21</td>\n",
       "      <td>Premium</td>\n",
       "      <td>E</td>\n",
       "      <td>SI1</td>\n",
       "      <td>59.8</td>\n",
       "      <td>61.0</td>\n",
       "      <td>326</td>\n",
       "      <td>3.89</td>\n",
       "      <td>3.84</td>\n",
       "      <td>2.31</td>\n",
       "    </tr>\n",
       "    <tr>\n",
       "      <th>2</th>\n",
       "      <td>0.23</td>\n",
       "      <td>Good</td>\n",
       "      <td>E</td>\n",
       "      <td>VS1</td>\n",
       "      <td>56.9</td>\n",
       "      <td>65.0</td>\n",
       "      <td>327</td>\n",
       "      <td>4.05</td>\n",
       "      <td>4.07</td>\n",
       "      <td>2.31</td>\n",
       "    </tr>\n",
       "    <tr>\n",
       "      <th>3</th>\n",
       "      <td>0.29</td>\n",
       "      <td>Premium</td>\n",
       "      <td>I</td>\n",
       "      <td>VS2</td>\n",
       "      <td>62.4</td>\n",
       "      <td>58.0</td>\n",
       "      <td>334</td>\n",
       "      <td>4.20</td>\n",
       "      <td>4.23</td>\n",
       "      <td>2.63</td>\n",
       "    </tr>\n",
       "    <tr>\n",
       "      <th>4</th>\n",
       "      <td>0.31</td>\n",
       "      <td>Good</td>\n",
       "      <td>J</td>\n",
       "      <td>SI2</td>\n",
       "      <td>63.3</td>\n",
       "      <td>58.0</td>\n",
       "      <td>335</td>\n",
       "      <td>4.34</td>\n",
       "      <td>4.35</td>\n",
       "      <td>2.75</td>\n",
       "    </tr>\n",
       "  </tbody>\n",
       "</table>\n",
       "</div>"
      ],
      "text/plain": [
       "   carat      cut color clarity  depth  table  price     x     y     z\n",
       "0   0.23    Ideal     E     SI2   61.5   55.0    326  3.95  3.98  2.43\n",
       "1   0.21  Premium     E     SI1   59.8   61.0    326  3.89  3.84  2.31\n",
       "2   0.23     Good     E     VS1   56.9   65.0    327  4.05  4.07  2.31\n",
       "3   0.29  Premium     I     VS2   62.4   58.0    334  4.20  4.23  2.63\n",
       "4   0.31     Good     J     SI2   63.3   58.0    335  4.34  4.35  2.75"
      ]
     },
     "execution_count": 33,
     "metadata": {},
     "output_type": "execute_result"
    }
   ],
   "source": [
    "diamonds.head()"
   ]
  },
  {
   "cell_type": "code",
   "execution_count": 36,
   "metadata": {},
   "outputs": [
    {
     "data": {
      "image/png": "[encoded data removed]",
      "text/plain": [
       "<Figure size 432x288 with 1 Axes>"
      ]
     },
     "metadata": {
      "needs_background": "light"
     },
     "output_type": "display_data"
    }
   ],
   "source": [
    "plt.plot(diamonds.x, diamonds.y, 'o')\n",
    "plt.xlabel('X')\n",
    "plt.ylabel('Y')\n",
    "plt.show()"
   ]
  },
  {
   "cell_type": "markdown",
   "metadata": {},
   "source": [
    "Observations:\n",
    "- a few outliers are present\n",
    "- observations with values 0 can be filtered out"
   ]
  },
  {
   "cell_type": "code",
   "execution_count": 37,
   "metadata": {},
   "outputs": [],
   "source": [
    "q = 'x>0 & y>0 & y<20'"
   ]
  },
  {
   "cell_type": "code",
   "execution_count": 38,
   "metadata": {},
   "outputs": [],
   "source": [
    "diamonds_filtered = diamonds.query(q)"
   ]
  },
  {
   "cell_type": "code",
   "execution_count": 39,
   "metadata": {},
   "outputs": [
    {
     "data": {
      "image/png": "[encoded data removed]",
      "text/plain": [
       "<Figure size 432x288 with 1 Axes>"
      ]
     },
     "metadata": {
      "needs_background": "light"
     },
     "output_type": "display_data"
    }
   ],
   "source": [
    "plt.plot(diamonds_filtered.x, diamonds_filtered.y, 'o')\n",
    "plt.xlabel('X')\n",
    "plt.ylabel('Y')\n",
    "plt.show()"
   ]
  },
  {
   "cell_type": "markdown",
   "metadata": {},
   "source": [
    "# Filtering or conditional filtering"
   ]
  },
  {
   "cell_type": "markdown",
   "metadata": {},
   "source": [
    "## Conditioning for Data Subsetting\n",
    "Let’s create a set of conditions to subset the data on. The goal is to select a subset of “typical full-time workers” by restring the subset to data that meets all of the following conditions:\n",
    "\n",
    "- Workers self-described as full-time employees (COW)\n",
    "- Workers reported at least 40 hours a week of activity (WKHP)\n",
    "- Workers 20-50 years of age (AGEP)\n",
    "- workers with an annual income (PINCP and PERNP) between $1,000 and $250,000 U.S. dollars.\n",
    "- Add a new indicator variable is_stdworker of whether the worker is a standard worker by our definition above or not (i.e., TRUE or FALSE)."
   ]
  },
  {
   "cell_type": "code",
   "execution_count": 42,
   "metadata": {},
   "outputs": [],
   "source": [
    "filter1 = (census.PINCP > 1000) & (census.PINCP < 250000) & \\\n",
    "(census.AGEP >= 20) & (census.AGEP <= 50) &\\\n",
    "(census.PERNP > 1000) & (census.PERNP < 250000) & \\\n",
    "(census.WKHP >= 40)"
   ]
  },
  {
   "cell_type": "code",
   "execution_count": 43,
   "metadata": {},
   "outputs": [],
   "source": [
    "census['is_stdworker'] = np.where(filter1, True, False)"
   ]
  },
  {
   "cell_type": "code",
   "execution_count": 44,
   "metadata": {},
   "outputs": [
    {
     "data": {
      "text/plain": [
       "0    False\n",
       "1     True\n",
       "2    False\n",
       "3    False\n",
       "4    False\n",
       "Name: is_stdworker, dtype: bool"
      ]
     },
     "execution_count": 44,
     "metadata": {},
     "output_type": "execute_result"
    }
   ],
   "source": [
    "census[\"is_stdworker\"].head()"
   ]
  },
  {
   "cell_type": "code",
   "execution_count": 45,
   "metadata": {},
   "outputs": [
    {
     "data": {
      "text/plain": [
       "(6279, 289)"
      ]
     },
     "execution_count": 45,
     "metadata": {},
     "output_type": "execute_result"
    }
   ],
   "source": [
    "census.shape"
   ]
  },
  {
   "cell_type": "markdown",
   "metadata": {},
   "source": [
    "### Filtering: Subsetting based on Conditions\n",
    "So far we completed re-recording of factor variables into meaningful categories and building an indicator variable for a standard worker conditioning. Now we can actually subset the full data using the query() command based on the value of the conditioning variable:"
   ]
  },
  {
   "cell_type": "code",
   "execution_count": 46,
   "metadata": {},
   "outputs": [],
   "source": [
    "std_workers = census.query('is_stdworker==True')"
   ]
  },
  {
   "cell_type": "code",
   "execution_count": 47,
   "metadata": {},
   "outputs": [
    {
     "data": {
      "text/plain": [
       "(1354, 289)"
      ]
     },
     "execution_count": 47,
     "metadata": {},
     "output_type": "execute_result"
    }
   ],
   "source": [
    "std_workers.shape"
   ]
  },
  {
   "cell_type": "markdown",
   "metadata": {},
   "source": [
    "### Re-encoding Categorical Variables\n",
    "For the purpose of readability, we want to provide more descriptive names to variable values that are currently coded as numeric values. This way we will end up with meaningful, more readable and interpretable categorical names. It will also prevent accidentally treating such variables as mere numeric values. Note that we will be making those changes on the newly created subset of interest. This way, we keeping the original data intact."
   ]
  },
  {
   "cell_type": "markdown",
   "metadata": {},
   "source": [
    "###  Re-encode sex from 1/2 to M/F"
   ]
  },
  {
   "cell_type": "code",
   "execution_count": 48,
   "metadata": {},
   "outputs": [],
   "source": [
    "conversions = {'SEX':{1:'M',2:'F'}}"
   ]
  },
  {
   "cell_type": "code",
   "execution_count": 49,
   "metadata": {},
   "outputs": [
    {
     "name": "stderr",
     "output_type": "stream",
     "text": [
      "/home/tushar/anaconda3/lib/python3.7/site-packages/pandas/core/generic.py:5821: SettingWithCopyWarning: \n",
      "A value is trying to be set on a copy of a slice from a DataFrame.\n",
      "Try using .loc[row_indexer,col_indexer] = value instead\n",
      "\n",
      "See the caveats in the documentation: http://pandas.pydata.org/pandas-docs/stable/indexing.html#indexing-view-versus-copy\n",
      "  regex=regex)\n"
     ]
    }
   ],
   "source": [
    "std_workers.replace(conversions, inplace=True)"
   ]
  },
  {
   "cell_type": "code",
   "execution_count": 50,
   "metadata": {},
   "outputs": [
    {
     "name": "stderr",
     "output_type": "stream",
     "text": [
      "/home/tushar/anaconda3/lib/python3.7/site-packages/pandas/core/generic.py:4405: SettingWithCopyWarning: \n",
      "A value is trying to be set on a copy of a slice from a DataFrame.\n",
      "Try using .loc[row_indexer,col_indexer] = value instead\n",
      "\n",
      "See the caveats in the documentation: http://pandas.pydata.org/pandas-docs/stable/indexing.html#indexing-view-versus-copy\n",
      "  self[name] = value\n"
     ]
    }
   ],
   "source": [
    "std_workers.SEX = std_workers.SEX.astype('category')"
   ]
  },
  {
   "cell_type": "code",
   "execution_count": 51,
   "metadata": {},
   "outputs": [
    {
     "data": {
      "text/plain": [
       "1     M\n",
       "9     F\n",
       "15    F\n",
       "27    M\n",
       "32    F\n",
       "Name: SEX, dtype: category\n",
       "Categories (2, object): [F, M]"
      ]
     },
     "execution_count": 51,
     "metadata": {},
     "output_type": "execute_result"
    }
   ],
   "source": [
    "std_workers.SEX.head()"
   ]
  },
  {
   "cell_type": "markdown",
   "metadata": {},
   "source": [
    "### Re-encode class of worker info into a more readable form"
   ]
  },
  {
   "cell_type": "code",
   "execution_count": 52,
   "metadata": {},
   "outputs": [
    {
     "data": {
      "text/plain": [
       "array([1., 2., 3., 7., 5., 4., 6., 8.])"
      ]
     },
     "execution_count": 52,
     "metadata": {},
     "output_type": "execute_result"
    }
   ],
   "source": [
    "std_workers.COW.unique()"
   ]
  },
  {
   "cell_type": "code",
   "execution_count": 54,
   "metadata": {},
   "outputs": [],
   "source": [
    "cow_map = {\n",
    "    1.0:'A',\n",
    "    2.0:'B',\n",
    "    3.0:'C',\n",
    "    4.0:'D',\n",
    "    5.0:'E',\n",
    "    6.0:'F',\n",
    "    7.0:'G',\n",
    "    8.0:'H'\n",
    "}"
   ]
  },
  {
   "cell_type": "code",
   "execution_count": 55,
   "metadata": {},
   "outputs": [
    {
     "name": "stderr",
     "output_type": "stream",
     "text": [
      "/home/tushar/anaconda3/lib/python3.7/site-packages/pandas/core/generic.py:5821: SettingWithCopyWarning: \n",
      "A value is trying to be set on a copy of a slice from a DataFrame.\n",
      "Try using .loc[row_indexer,col_indexer] = value instead\n",
      "\n",
      "See the caveats in the documentation: http://pandas.pydata.org/pandas-docs/stable/indexing.html#indexing-view-versus-copy\n",
      "  regex=regex)\n"
     ]
    }
   ],
   "source": [
    "std_workers.replace({'COW':cow_map}, inplace = True)"
   ]
  },
  {
   "cell_type": "code",
   "execution_count": 56,
   "metadata": {},
   "outputs": [
    {
     "name": "stderr",
     "output_type": "stream",
     "text": [
      "/home/tushar/anaconda3/lib/python3.7/site-packages/pandas/core/generic.py:4405: SettingWithCopyWarning: \n",
      "A value is trying to be set on a copy of a slice from a DataFrame.\n",
      "Try using .loc[row_indexer,col_indexer] = value instead\n",
      "\n",
      "See the caveats in the documentation: http://pandas.pydata.org/pandas-docs/stable/indexing.html#indexing-view-versus-copy\n",
      "  self[name] = value\n"
     ]
    }
   ],
   "source": [
    "std_workers.COW = std_workers.COW.astype('category')"
   ]
  },
  {
   "cell_type": "code",
   "execution_count": 57,
   "metadata": {},
   "outputs": [
    {
     "data": {
      "text/plain": [
       "1     A\n",
       "9     A\n",
       "15    A\n",
       "27    A\n",
       "32    A\n",
       "Name: COW, dtype: category\n",
       "Categories (8, object): [A, B, C, D, E, F, G, H]"
      ]
     },
     "execution_count": 57,
     "metadata": {},
     "output_type": "execute_result"
    }
   ],
   "source": [
    "std_workers.COW.head()"
   ]
  },
  {
   "cell_type": "markdown",
   "metadata": {},
   "source": [
    "### Re-encode education info into a more readable form and fewer levels by merging all levels below high school into same encoding"
   ]
  },
  {
   "cell_type": "code",
   "execution_count": 58,
   "metadata": {},
   "outputs": [
    {
     "data": {
      "text/plain": [
       "array([19., 16., 13., 21.,  8., 23., 17., 20., 22., 15., 18., 14., 24.,\n",
       "        9., 10., 11., 12.,  6.,  1.,  7.,  5.])"
      ]
     },
     "execution_count": 58,
     "metadata": {},
     "output_type": "execute_result"
    }
   ],
   "source": [
    "std_workers.SCHL.unique()"
   ]
  },
  {
   "cell_type": "markdown",
   "metadata": {},
   "source": [
    "#### Suppose below 20 is no high school diploma"
   ]
  },
  {
   "cell_type": "code",
   "execution_count": 59,
   "metadata": {},
   "outputs": [],
   "source": [
    "school_map = ['ZZ'] * 20 + ['A','B','C','D']"
   ]
  },
  {
   "cell_type": "code",
   "execution_count": 62,
   "metadata": {},
   "outputs": [],
   "source": [
    "original_map = range(1,25)"
   ]
  },
  {
   "cell_type": "code",
   "execution_count": 64,
   "metadata": {},
   "outputs": [
    {
     "name": "stderr",
     "output_type": "stream",
     "text": [
      "/home/tushar/anaconda3/lib/python3.7/site-packages/pandas/core/generic.py:5890: SettingWithCopyWarning: \n",
      "A value is trying to be set on a copy of a slice from a DataFrame\n",
      "\n",
      "See the caveats in the documentation: http://pandas.pydata.org/pandas-docs/stable/indexing.html#indexing-view-versus-copy\n",
      "  self._update_inplace(new_data)\n"
     ]
    }
   ],
   "source": [
    "std_workers.SCHL.replace(original_map, school_map, inplace = True)"
   ]
  },
  {
   "cell_type": "code",
   "execution_count": 67,
   "metadata": {},
   "outputs": [
    {
     "name": "stderr",
     "output_type": "stream",
     "text": [
      "/home/tushar/anaconda3/lib/python3.7/site-packages/pandas/core/generic.py:4405: SettingWithCopyWarning: \n",
      "A value is trying to be set on a copy of a slice from a DataFrame.\n",
      "Try using .loc[row_indexer,col_indexer] = value instead\n",
      "\n",
      "See the caveats in the documentation: http://pandas.pydata.org/pandas-docs/stable/indexing.html#indexing-view-versus-copy\n",
      "  self[name] = value\n"
     ]
    }
   ],
   "source": [
    "std_workers.SCHL = std_workers.SCHL.astype('category')"
   ]
  },
  {
   "cell_type": "code",
   "execution_count": 68,
   "metadata": {},
   "outputs": [
    {
     "data": {
      "text/plain": [
       "1     ZZ\n",
       "9     ZZ\n",
       "15    ZZ\n",
       "27    ZZ\n",
       "32    ZZ\n",
       "Name: SCHL, dtype: category\n",
       "Categories (5, object): [A, B, C, D, ZZ]"
      ]
     },
     "execution_count": 68,
     "metadata": {},
     "output_type": "execute_result"
    }
   ],
   "source": [
    "std_workers.SCHL.head()"
   ]
  },
  {
   "cell_type": "markdown",
   "metadata": {},
   "source": [
    "# BONUS: Splitting for Modeling: Train and Test\n",
    "Suppose that you want to further split your data of interest into two subsets:\n",
    "- a train set that will be used for creating a predictive model, say to build a regression model that predicts income of a standard worker and\n",
    "- a test set that will be used for testing the model\n",
    "- Let’s first add a random variable (flag) drawn from a uniform distribution on the [0, 1] interval using the numpy.random.uniform() function: If this variable’s value for a particular case/row is above a certain threshold, then the case will be included into a train case; otherwise, it will be assigned as a test case.\n",
    "\n",
    "- Suppose that the desirable split is as follows:\n",
    "    - 90% of the data for the train subset and\n",
    "    - the remaining 10% of the data for the test subset"
   ]
  },
  {
   "cell_type": "code",
   "execution_count": 70,
   "metadata": {},
   "outputs": [
    {
     "name": "stderr",
     "output_type": "stream",
     "text": [
      "/home/tushar/anaconda3/lib/python3.7/site-packages/ipykernel_launcher.py:1: SettingWithCopyWarning: \n",
      "A value is trying to be set on a copy of a slice from a DataFrame.\n",
      "Try using .loc[row_indexer,col_indexer] = value instead\n",
      "\n",
      "See the caveats in the documentation: http://pandas.pydata.org/pandas-docs/stable/indexing.html#indexing-view-versus-copy\n",
      "  \"\"\"Entry point for launching an IPython kernel.\n"
     ]
    }
   ],
   "source": [
    "std_workers['flag']= np.random.uniform(0,1,len(std_workers))"
   ]
  },
  {
   "cell_type": "code",
   "execution_count": 71,
   "metadata": {},
   "outputs": [],
   "source": [
    "dtrain = std_workers[std_workers['flag'] >= 0.1]"
   ]
  },
  {
   "cell_type": "code",
   "execution_count": 72,
   "metadata": {},
   "outputs": [],
   "source": [
    "dtest = std_workers[std_workers['flag'] < 0.1]"
   ]
  },
  {
   "cell_type": "code",
   "execution_count": 82,
   "metadata": {},
   "outputs": [
    {
     "data": {
      "text/plain": [
       "COW\n",
       "A    97\n",
       "B    14\n",
       "C     5\n",
       "D     4\n",
       "E     3\n",
       "F     6\n",
       "G     6\n",
       "H     0\n",
       "Name: COW, dtype: int64"
      ]
     },
     "execution_count": 82,
     "metadata": {},
     "output_type": "execute_result"
    }
   ],
   "source": [
    "dtest.groupby('COW')['COW'].count()"
   ]
  },
  {
   "cell_type": "code",
   "execution_count": 83,
   "metadata": {},
   "outputs": [
    {
     "data": {
      "text/plain": [
       "COW\n",
       "A    839\n",
       "B    120\n",
       "C     86\n",
       "D     49\n",
       "E     56\n",
       "F     37\n",
       "G     30\n",
       "H      2\n",
       "Name: COW, dtype: int64"
      ]
     },
     "execution_count": 83,
     "metadata": {},
     "output_type": "execute_result"
    }
   ],
   "source": [
    "dtrain.groupby('COW')['COW'].count()"
   ]
  },
  {
   "cell_type": "markdown",
   "metadata": {},
   "source": [
    "# BONUS: Saving the Data Subsets\n",
    "Save the data sets you prepared for future analysis and modeling as a csv file so that you can easily load it later when you are ready for your modeling tasks:"
   ]
  },
  {
   "cell_type": "code",
   "execution_count": 85,
   "metadata": {},
   "outputs": [],
   "source": [
    "std_workers.to_csv('stdworkers.csv')\n",
    "dtrain.to_csv('dtrain.csv')\n",
    "dtest.to_csv('dtest.csv')"
   ]
  },
  {
   "cell_type": "code",
   "execution_count": 86,
   "metadata": {},
   "outputs": [
    {
     "name": "stdout",
     "output_type": "stream",
     "text": [
      "01.NumPy.ipynb                      dtest.csv\r\n",
      "02.Pandas.ipynb                     dtrain.csv\r\n",
      "03.NumPy_IO_Helper_Functions.ipynb  index.json\r\n",
      "04.DataIO_CSV_XLSX.ipynb            \u001b[0m\u001b[01;32mLordOfTheRings.txt\u001b[0m*\r\n",
      "05.JSON.ipynb                       Missing_Data.ipynb\r\n",
      "06.XML_IO.ipynb                     records.json\r\n",
      "a.npy                               RegularExpressions.ipynb\r\n",
      "a.txt                               split.json\r\n",
      "b.txt                               stdworkers.csv\r\n",
      "columns.json                        Subset_Filter_Split.ipynb\r\n",
      "Concatenate_Merge_Join.ipynb        values.json\r\n",
      "csv_hr_db.csv                       weather_write.xlsx\r\n",
      "\u001b[01;34mdata_raw\u001b[0m/\r\n"
     ]
    }
   ],
   "source": [
    "ls"
   ]
  },
  {
   "cell_type": "markdown",
   "metadata": {},
   "source": [
    "# BONUS: Loading the Data Subsets"
   ]
  },
  {
   "cell_type": "code",
   "execution_count": 87,
   "metadata": {},
   "outputs": [
    {
     "ename": "NameError",
     "evalue": "name 'std_workers' is not defined",
     "output_type": "error",
     "traceback": [
      "\u001b[0;31m---------------------------------------------------------------------------\u001b[0m",
      "\u001b[0;31mNameError\u001b[0m                                 Traceback (most recent call last)",
      "\u001b[0;32m<ipython-input-87-7b7fd435388d>\u001b[0m in \u001b[0;36m<module>\u001b[0;34m()\u001b[0m\n\u001b[1;32m      2\u001b[0m \u001b[0;32mdel\u001b[0m \u001b[0mdtest\u001b[0m\u001b[0;34m\u001b[0m\u001b[0;34m\u001b[0m\u001b[0m\n\u001b[1;32m      3\u001b[0m \u001b[0;32mdel\u001b[0m \u001b[0mdtrain\u001b[0m\u001b[0;34m\u001b[0m\u001b[0;34m\u001b[0m\u001b[0m\n\u001b[0;32m----> 4\u001b[0;31m \u001b[0mstd_workers\u001b[0m\u001b[0;34m.\u001b[0m\u001b[0mhead\u001b[0m\u001b[0;34m(\u001b[0m\u001b[0;34m)\u001b[0m\u001b[0;34m\u001b[0m\u001b[0;34m\u001b[0m\u001b[0m\n\u001b[0m",
      "\u001b[0;31mNameError\u001b[0m: name 'std_workers' is not defined"
     ]
    }
   ],
   "source": [
    "del std_workers\n",
    "del dtest\n",
    "del dtrain\n",
    "std_workers.head()"
   ]
  },
  {
   "cell_type": "code",
   "execution_count": 88,
   "metadata": {},
   "outputs": [
    {
     "data": {
      "text/html": [
       "<div>\n",
       "<style scoped>\n",
       "    .dataframe tbody tr th:only-of-type {\n",
       "        vertical-align: middle;\n",
       "    }\n",
       "\n",
       "    .dataframe tbody tr th {\n",
       "        vertical-align: top;\n",
       "    }\n",
       "\n",
       "    .dataframe thead th {\n",
       "        text-align: right;\n",
       "    }\n",
       "</style>\n",
       "<table border=\"1\" class=\"dataframe\">\n",
       "  <thead>\n",
       "    <tr style=\"text-align: right;\">\n",
       "      <th></th>\n",
       "      <th>Unnamed: 0</th>\n",
       "      <th>ORIGFILEROWNUMBER</th>\n",
       "      <th>ORIGFILENAME</th>\n",
       "      <th>ORIGINSERTTIME</th>\n",
       "      <th>ORIGRANDGROUP</th>\n",
       "      <th>RT</th>\n",
       "      <th>SERIALNO</th>\n",
       "      <th>SPORDER</th>\n",
       "      <th>PUMA</th>\n",
       "      <th>ST</th>\n",
       "      <th>...</th>\n",
       "      <th>PWGTP73</th>\n",
       "      <th>PWGTP74</th>\n",
       "      <th>PWGTP75</th>\n",
       "      <th>PWGTP76</th>\n",
       "      <th>PWGTP77</th>\n",
       "      <th>PWGTP78</th>\n",
       "      <th>PWGTP79</th>\n",
       "      <th>PWGTP80</th>\n",
       "      <th>is_stdworker</th>\n",
       "      <th>flag</th>\n",
       "    </tr>\n",
       "  </thead>\n",
       "  <tbody>\n",
       "    <tr>\n",
       "      <th>0</th>\n",
       "      <td>1</td>\n",
       "      <td>386</td>\n",
       "      <td>file:csv_pus/ss11pusa.csv.gz</td>\n",
       "      <td>2013-02-12 17:04:40.875</td>\n",
       "      <td>327</td>\n",
       "      <td>P</td>\n",
       "      <td>10374</td>\n",
       "      <td>1</td>\n",
       "      <td>1500</td>\n",
       "      <td>1</td>\n",
       "      <td>...</td>\n",
       "      <td>284</td>\n",
       "      <td>68</td>\n",
       "      <td>78</td>\n",
       "      <td>187</td>\n",
       "      <td>268</td>\n",
       "      <td>423</td>\n",
       "      <td>211</td>\n",
       "      <td>220</td>\n",
       "      <td>True</td>\n",
       "      <td>0.209834</td>\n",
       "    </tr>\n",
       "    <tr>\n",
       "      <th>1</th>\n",
       "      <td>9</td>\n",
       "      <td>3078</td>\n",
       "      <td>file:csv_pus/ss11pusa.csv.gz</td>\n",
       "      <td>2013-02-12 17:04:40.875</td>\n",
       "      <td>947</td>\n",
       "      <td>P</td>\n",
       "      <td>94686</td>\n",
       "      <td>1</td>\n",
       "      <td>200</td>\n",
       "      <td>1</td>\n",
       "      <td>...</td>\n",
       "      <td>93</td>\n",
       "      <td>368</td>\n",
       "      <td>98</td>\n",
       "      <td>290</td>\n",
       "      <td>302</td>\n",
       "      <td>346</td>\n",
       "      <td>527</td>\n",
       "      <td>392</td>\n",
       "      <td>True</td>\n",
       "      <td>0.246585</td>\n",
       "    </tr>\n",
       "    <tr>\n",
       "      <th>2</th>\n",
       "      <td>15</td>\n",
       "      <td>8029</td>\n",
       "      <td>file:csv_pus/ss11pusa.csv.gz</td>\n",
       "      <td>2013-02-12 17:04:40.875</td>\n",
       "      <td>840</td>\n",
       "      <td>P</td>\n",
       "      <td>240267</td>\n",
       "      <td>1</td>\n",
       "      <td>2300</td>\n",
       "      <td>1</td>\n",
       "      <td>...</td>\n",
       "      <td>40</td>\n",
       "      <td>12</td>\n",
       "      <td>38</td>\n",
       "      <td>38</td>\n",
       "      <td>48</td>\n",
       "      <td>65</td>\n",
       "      <td>34</td>\n",
       "      <td>62</td>\n",
       "      <td>True</td>\n",
       "      <td>0.133162</td>\n",
       "    </tr>\n",
       "    <tr>\n",
       "      <th>3</th>\n",
       "      <td>27</td>\n",
       "      <td>10721</td>\n",
       "      <td>file:csv_pus/ss11pusa.csv.gz</td>\n",
       "      <td>2013-02-12 17:04:40.875</td>\n",
       "      <td>465</td>\n",
       "      <td>P</td>\n",
       "      <td>323568</td>\n",
       "      <td>2</td>\n",
       "      <td>300</td>\n",
       "      <td>1</td>\n",
       "      <td>...</td>\n",
       "      <td>146</td>\n",
       "      <td>243</td>\n",
       "      <td>131</td>\n",
       "      <td>149</td>\n",
       "      <td>238</td>\n",
       "      <td>142</td>\n",
       "      <td>285</td>\n",
       "      <td>151</td>\n",
       "      <td>True</td>\n",
       "      <td>0.097567</td>\n",
       "    </tr>\n",
       "    <tr>\n",
       "      <th>4</th>\n",
       "      <td>32</td>\n",
       "      <td>13420</td>\n",
       "      <td>file:csv_pus/ss11pusa.csv.gz</td>\n",
       "      <td>2013-02-12 17:04:40.875</td>\n",
       "      <td>1</td>\n",
       "      <td>P</td>\n",
       "      <td>405943</td>\n",
       "      <td>1</td>\n",
       "      <td>1300</td>\n",
       "      <td>1</td>\n",
       "      <td>...</td>\n",
       "      <td>89</td>\n",
       "      <td>274</td>\n",
       "      <td>308</td>\n",
       "      <td>318</td>\n",
       "      <td>489</td>\n",
       "      <td>293</td>\n",
       "      <td>93</td>\n",
       "      <td>333</td>\n",
       "      <td>True</td>\n",
       "      <td>0.505051</td>\n",
       "    </tr>\n",
       "  </tbody>\n",
       "</table>\n",
       "<p>5 rows × 291 columns</p>\n",
       "</div>"
      ],
      "text/plain": [
       "   Unnamed: 0  ORIGFILEROWNUMBER                  ORIGFILENAME  \\\n",
       "0           1                386  file:csv_pus/ss11pusa.csv.gz   \n",
       "1           9               3078  file:csv_pus/ss11pusa.csv.gz   \n",
       "2          15               8029  file:csv_pus/ss11pusa.csv.gz   \n",
       "3          27              10721  file:csv_pus/ss11pusa.csv.gz   \n",
       "4          32              13420  file:csv_pus/ss11pusa.csv.gz   \n",
       "\n",
       "            ORIGINSERTTIME  ORIGRANDGROUP RT  SERIALNO  SPORDER  PUMA  ST  \\\n",
       "0  2013-02-12 17:04:40.875            327  P     10374        1  1500   1   \n",
       "1  2013-02-12 17:04:40.875            947  P     94686        1   200   1   \n",
       "2  2013-02-12 17:04:40.875            840  P    240267        1  2300   1   \n",
       "3  2013-02-12 17:04:40.875            465  P    323568        2   300   1   \n",
       "4  2013-02-12 17:04:40.875              1  P    405943        1  1300   1   \n",
       "\n",
       "     ...     PWGTP73  PWGTP74  PWGTP75  PWGTP76  PWGTP77 PWGTP78  PWGTP79  \\\n",
       "0    ...         284       68       78      187      268     423      211   \n",
       "1    ...          93      368       98      290      302     346      527   \n",
       "2    ...          40       12       38       38       48      65       34   \n",
       "3    ...         146      243      131      149      238     142      285   \n",
       "4    ...          89      274      308      318      489     293       93   \n",
       "\n",
       "   PWGTP80  is_stdworker      flag  \n",
       "0      220          True  0.209834  \n",
       "1      392          True  0.246585  \n",
       "2       62          True  0.133162  \n",
       "3      151          True  0.097567  \n",
       "4      333          True  0.505051  \n",
       "\n",
       "[5 rows x 291 columns]"
      ]
     },
     "execution_count": 88,
     "metadata": {},
     "output_type": "execute_result"
    }
   ],
   "source": [
    "std_workers=pd.read_csv(\"stdworkers.csv\")\n",
    "std_workers.head()"
   ]
  },
  {
   "cell_type": "code",
   "execution_count": null,
   "metadata": {},
   "outputs": [],
   "source": []
  }
 ],
 "metadata": {
  "kernelspec": {
   "display_name": "Python 3",
   "language": "python",
   "name": "python3"
  },
  "language_info": {
   "codemirror_mode": {
    "name": "ipython",
    "version": 3
   },
   "file_extension": ".py",
   "mimetype": "text/x-python",
   "name": "python",
   "nbconvert_exporter": "python",
   "pygments_lexer": "ipython3",
   "version": "3.7.1"
  }
 },
 "nbformat": 4,
 "nbformat_minor": 2
}
