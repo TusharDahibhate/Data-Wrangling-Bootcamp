{
 "cells": [
  {
   "cell_type": "code",
   "execution_count": 1,
   "metadata": {},
   "outputs": [],
   "source": [
    "import re\n",
    "import urllib.request\n",
    "from urllib.request import urlopen"
   ]
  },
  {
   "cell_type": "markdown",
   "metadata": {},
   "source": [
    "# re module\n",
    "- match(pattern, string, flags): from the beginning, return:\n",
    "    - MatchObject if match exists or\n",
    "    - None, otherwise\n",
    "    \n",
    "- search(pattern, string, flags): search _the entire string) for match, return:\n",
    "    - MatchObject if exists, or\n",
    "    - None, otherwise\n",
    "    \n",
    "- findAll(pattern, string, flags): returns a list of matches of patterns in the string\n",
    "\n",
    "- finditer(pattern, string, flags): returns an iterator of matches of patterns in the string\n",
    "\n",
    "- fullmatch(pattern, string, flags): applies the pattern to the full string, returns a MatchObject or None\n",
    "\n",
    "- split(pattern, string, maxsplit, flags): breaks the string up by the regex pattern\n",
    "\n",
    "- sub(pattern, repl, string, count, flags): finds match, replaces repl with it. Returns new string"
   ]
  },
  {
   "cell_type": "markdown",
   "metadata": {},
   "source": [
    "### match() vs. search()\n",
    "- match() returns:\n",
    "    - a MatchObject if zero or more characters at the beginning of the string match the regular expression pattern, or\n",
    "    - None if the string does not match the pattern\n",
    "- search() scans through the entire string and returns:\n",
    "    - a corresponding MatchObject, or\n",
    "    - None if finds no match"
   ]
  },
  {
   "cell_type": "code",
   "execution_count": 3,
   "metadata": {},
   "outputs": [],
   "source": [
    "f = open('LordOfTheRings.txt')"
   ]
  },
  {
   "cell_type": "code",
   "execution_count": 4,
   "metadata": {},
   "outputs": [],
   "source": [
    "lor = f.read()"
   ]
  },
  {
   "cell_type": "code",
   "execution_count": 9,
   "metadata": {},
   "outputs": [
    {
     "data": {
      "text/plain": [
       "<re.Match object; span=(0, 3), match='THE'>"
      ]
     },
     "execution_count": 9,
     "metadata": {},
     "output_type": "execute_result"
    }
   ],
   "source": [
    "re.match('THE',lor)"
   ]
  },
  {
   "cell_type": "code",
   "execution_count": 10,
   "metadata": {},
   "outputs": [],
   "source": [
    "# Returns None\n",
    "\n",
    "re.match('frodo',lor)"
   ]
  },
  {
   "cell_type": "code",
   "execution_count": 12,
   "metadata": {},
   "outputs": [],
   "source": [
    "# Returns None\n",
    "\n",
    "re.match('Gandalf',lor)"
   ]
  },
  {
   "cell_type": "code",
   "execution_count": 13,
   "metadata": {},
   "outputs": [
    {
     "data": {
      "text/plain": [
       "<re.Match object; span=(5322, 5327), match='Frodo'>"
      ]
     },
     "execution_count": 13,
     "metadata": {},
     "output_type": "execute_result"
    }
   ],
   "source": [
    "re.search('Frodo',lor)"
   ]
  },
  {
   "cell_type": "code",
   "execution_count": 14,
   "metadata": {},
   "outputs": [
    {
     "data": {
      "text/plain": [
       "<re.Match object; span=(3837, 3844), match='Gandalf'>"
      ]
     },
     "execution_count": 14,
     "metadata": {},
     "output_type": "execute_result"
    }
   ],
   "source": [
    "re.search('Gandalf',lor)"
   ]
  },
  {
   "cell_type": "code",
   "execution_count": 15,
   "metadata": {},
   "outputs": [
    {
     "data": {
      "text/plain": [
       "<re.Match object; span=(0, 3), match='THE'>"
      ]
     },
     "execution_count": 15,
     "metadata": {},
     "output_type": "execute_result"
    }
   ],
   "source": [
    "re.search('THE',lor)"
   ]
  },
  {
   "cell_type": "code",
   "execution_count": 18,
   "metadata": {},
   "outputs": [],
   "source": [
    "regex_space = re.compile('\\s+')"
   ]
  },
  {
   "cell_type": "code",
   "execution_count": 19,
   "metadata": {},
   "outputs": [
    {
     "name": "stdout",
     "output_type": "stream",
     "text": [
      "'  ' match found\n",
      "'Hello   ' match NOT found\n",
      "'There' match NOT found\n",
      "'  ' match found\n"
     ]
    }
   ],
   "source": [
    "for string in [\"  \",\"Hello   \",\"There\", \"  \"]:\n",
    "    if re.match(regex_space, string):\n",
    "        print(repr(string), \"match found\")\n",
    "    else:\n",
    "        print(repr(string), \"match NOT found\")"
   ]
  },
  {
   "cell_type": "markdown",
   "metadata": {},
   "source": [
    "# Using Raw Strings\n",
    "- Use raw strings to avoid confusion by having to escape characters within a regex string."
   ]
  },
  {
   "cell_type": "code",
   "execution_count": 20,
   "metadata": {},
   "outputs": [],
   "source": [
    "a = \"abc def\""
   ]
  },
  {
   "cell_type": "code",
   "execution_count": 24,
   "metadata": {},
   "outputs": [
    {
     "name": "stdout",
     "output_type": "stream",
     "text": [
      "Didn't match\n"
     ]
    }
   ],
   "source": [
    "if re.match('\\b', a):\n",
    "    print('Match')\n",
    "else:\n",
    "    print('Didn\\'t match')"
   ]
  },
  {
   "cell_type": "code",
   "execution_count": 25,
   "metadata": {},
   "outputs": [],
   "source": [
    "b = 'abc\\bdef'"
   ]
  },
  {
   "cell_type": "code",
   "execution_count": 26,
   "metadata": {},
   "outputs": [
    {
     "name": "stdout",
     "output_type": "stream",
     "text": [
      "Didn't match\n"
     ]
    }
   ],
   "source": [
    "if re.match('\\b', b):\n",
    "    print('Match')\n",
    "else:\n",
    "    print('Didn\\'t match')"
   ]
  },
  {
   "cell_type": "code",
   "execution_count": 27,
   "metadata": {},
   "outputs": [
    {
     "name": "stdout",
     "output_type": "stream",
     "text": [
      "Match\n"
     ]
    }
   ],
   "source": [
    "if re.match('\\\\b', a):\n",
    "    print('Match')\n",
    "else:\n",
    "    print('Didn\\'t match')"
   ]
  },
  {
   "cell_type": "code",
   "execution_count": 28,
   "metadata": {},
   "outputs": [
    {
     "name": "stdout",
     "output_type": "stream",
     "text": [
      "Match\n"
     ]
    }
   ],
   "source": [
    "if re.match(r'\\b', a):\n",
    "    print('Match')\n",
    "else:\n",
    "    print('Didn\\'t match')"
   ]
  },
  {
   "cell_type": "markdown",
   "metadata": {},
   "source": [
    "##  BEWARE: Python could be TOO helpful.  It adds a backslash for you. but not always (e.g. \\b)."
   ]
  },
  {
   "cell_type": "code",
   "execution_count": 29,
   "metadata": {},
   "outputs": [
    {
     "data": {
      "text/plain": [
       "'\\\\d'"
      ]
     },
     "execution_count": 29,
     "metadata": {},
     "output_type": "execute_result"
    }
   ],
   "source": [
    "'\\d'"
   ]
  },
  {
   "cell_type": "code",
   "execution_count": 30,
   "metadata": {},
   "outputs": [],
   "source": [
    "match_nums = ['12345abc','abc12345']"
   ]
  },
  {
   "cell_type": "code",
   "execution_count": 31,
   "metadata": {},
   "outputs": [
    {
     "name": "stdout",
     "output_type": "stream",
     "text": [
      "Starts with 5 numbers\n",
      "Does not start with 5 numbers\n"
     ]
    }
   ],
   "source": [
    "for item in match_nums:\n",
    "    if re.match('\\\\d{5}', item):\n",
    "        print('Starts with 5 numbers')\n",
    "    else:\n",
    "        print('Does not start with 5 numbers')"
   ]
  },
  {
   "cell_type": "code",
   "execution_count": 32,
   "metadata": {},
   "outputs": [
    {
     "name": "stdout",
     "output_type": "stream",
     "text": [
      "Starts with 5 numbers\n",
      "Does not start with 5 numbers\n"
     ]
    }
   ],
   "source": [
    "# No backslash no problem\n",
    "\n",
    "for item in match_nums:\n",
    "    if re.match('\\d{5}', item):\n",
    "        print('Starts with 5 numbers')\n",
    "    else:\n",
    "        print('Does not start with 5 numbers')"
   ]
  },
  {
   "cell_type": "markdown",
   "metadata": {},
   "source": [
    "# Common regex\n",
    "- ^ From the start\n",
    "- $ To the end\n",
    "- \\s whitespace\n",
    "- \\S non-whitespace\n",
    "- \\d digit\n",
    "- \\D non-digit\n",
    "- \\w alphanumeric character\n",
    "- \\W non alphanumeric charcter\n",
    "- \\b word boundary\n",
    "- \\B non word boundary\n",
    "- * 0 or more instances\n",
    "- + 1 or more instances\n",
    "- ? 0 or 1 instances\n",
    "- {n} exactly n chars\n",
    "- {n,m} n to m\n",
    "- {,m} upto m\n",
    "- (n|m|l) n, m or l chars\n",
    "- [abcd] a or b or c or d\n",
    "- [f-m] anyone from f to m\n",
    "- [^xyz] not x or y or z\n",
    "- [a-zA-Z] any one of the letters"
   ]
  },
  {
   "cell_type": "markdown",
   "metadata": {},
   "source": [
    "## MatchObjects\n",
    "- A MarchObject is returned from either match() or search() if the pattern is found\n",
    "- MatchObject methods:\n",
    "    - start() - returns the index of the start of the match\n",
    "    - end() - returns the index of the end of the match\n",
    "    - span() - returns both the start and the end of the match\n",
    "    - groups() - returns a tuple of a all sub-groups (paranthesed-items)\n",
    "    - group(n) - returns a sub-group, zero is for the whole match"
   ]
  },
  {
   "cell_type": "markdown",
   "metadata": {},
   "source": [
    "# Groupings\n",
    "- When a match occurs, matchobj.groups() will return a tuple of the entire match\n",
    "- Use matchobj.group(n) to obtain a particular group"
   ]
  },
  {
   "cell_type": "code",
   "execution_count": 33,
   "metadata": {},
   "outputs": [],
   "source": [
    "string = \"I am just trying to learn REGEX man!\""
   ]
  },
  {
   "cell_type": "code",
   "execution_count": 34,
   "metadata": {},
   "outputs": [],
   "source": [
    "match_obj = re.search(r'(\\w+) (\\w+) (\\w+) (\\w+)', string)"
   ]
  },
  {
   "cell_type": "code",
   "execution_count": 35,
   "metadata": {},
   "outputs": [
    {
     "data": {
      "text/plain": [
       "('I', 'am', 'just', 'trying')"
      ]
     },
     "execution_count": 35,
     "metadata": {},
     "output_type": "execute_result"
    }
   ],
   "source": [
    "match_obj.groups()"
   ]
  },
  {
   "cell_type": "code",
   "execution_count": 38,
   "metadata": {},
   "outputs": [
    {
     "name": "stdout",
     "output_type": "stream",
     "text": [
      "group - 0: I am just trying\n",
      "group - 1: I\n",
      "group - 2: am\n",
      "group - 3: just\n",
      "group - 4: trying\n"
     ]
    }
   ],
   "source": [
    "for i in range(len(match_obj.groups()) + 1):\n",
    "    print('group - {}: {}'.format(str(i), match_obj.group(i)))"
   ]
  },
  {
   "cell_type": "markdown",
   "metadata": {},
   "source": [
    "## findall() usage\n",
    "- The findall() method allows for finding multiple occurrences of a regex\n",
    "- returns a list of strings that match"
   ]
  },
  {
   "cell_type": "code",
   "execution_count": 40,
   "metadata": {},
   "outputs": [
    {
     "data": {
      "text/plain": [
       "['I', 'am', 'just', 'trying', 'to', 'learn', 'REGEX', 'man']"
      ]
     },
     "execution_count": 40,
     "metadata": {},
     "output_type": "execute_result"
    }
   ],
   "source": [
    "re.findall(r'\\w+', string)"
   ]
  },
  {
   "cell_type": "code",
   "execution_count": 41,
   "metadata": {},
   "outputs": [
    {
     "data": {
      "text/plain": [
       "<re.Match object; span=(0, 1), match='I'>"
      ]
     },
     "execution_count": 41,
     "metadata": {},
     "output_type": "execute_result"
    }
   ],
   "source": [
    "re.search(r'\\w+', string)"
   ]
  },
  {
   "cell_type": "markdown",
   "metadata": {},
   "source": [
    "# Matching Flags\n",
    "- Flags can be set to tailor aspects of the search\n",
    "    - re.IGNORECASE - case insensitive matches\n",
    "    - re.VERBOSE - use verbose-style regular expressions\n",
    "    - re.DOTALL - dot(.) can match any char including newlines\n",
    "    - re.MULTILINE - matches at the beginning of each line are allowed with match()"
   ]
  },
  {
   "cell_type": "markdown",
   "metadata": {},
   "source": [
    "# Verbose Flag\n",
    "- Regular expressions are difficult to read:\n",
    "always provide inline documentation\n",
    "- It can be done with verbose regular expressions.\n",
    "- A verbose regular expression is different from a compact regular expression in two ways:\n",
    "    - Whitespace is ignored:\n",
    "        - Spaces, tabs, and carriage returns are not matched as spaces, tabs, and carriage returns. They're not matched at all.\n",
    "        - If you want to match a space in a verbose regular expression, you'll need to escape it by putting a backslash in front of it\n",
    "    - Comments are ignored:\n",
    "        - A comment in a verbose regular expression is just like a comment in Python code: it starts with a # character and goes until the end of the line."
   ]
  },
  {
   "cell_type": "code",
   "execution_count": 42,
   "metadata": {},
   "outputs": [],
   "source": [
    "pattern = r'''\n",
    "    (\\(?\\d{3}\\)?)?\n",
    "    [-\\s.]\n",
    "    \\d{3}\n",
    "    [-\\s.]\n",
    "    \\d{4}\n",
    "'''"
   ]
  },
  {
   "cell_type": "code",
   "execution_count": 43,
   "metadata": {},
   "outputs": [],
   "source": [
    "phones = [\n",
    "    '123-456-7890',\n",
    "    '123 456 7890',\n",
    "    '(123) 456-7890',\n",
    "    '123.456,7890',\n",
    "    '123-4567',\n",
    "    'abc-dfg-7789'\n",
    "]"
   ]
  },
  {
   "cell_type": "code",
   "execution_count": 44,
   "metadata": {},
   "outputs": [],
   "source": [
    "valid_numbers = [phone for phone in phones if re.match(pattern,phone, re.VERBOSE)]"
   ]
  },
  {
   "cell_type": "code",
   "execution_count": 45,
   "metadata": {},
   "outputs": [
    {
     "data": {
      "text/plain": [
       "['123-456-7890', '123 456 7890', '(123) 456-7890']"
      ]
     },
     "execution_count": 45,
     "metadata": {},
     "output_type": "execute_result"
    }
   ],
   "source": [
    "valid_numbers"
   ]
  },
  {
   "cell_type": "markdown",
   "metadata": {},
   "source": [
    "## String Manipulation\n",
    "- Two methods can be used to manipulate strings after a search has been performed:\n",
    "    - newstr = re.sub(pattern, replacement, sourcestring)\n",
    "        - replaces first match in the sourcestring\n",
    "    - re.split(pattern, sourcestring)\n",
    "        - breaks a string into a list based on a specified pattern"
   ]
  },
  {
   "cell_type": "code",
   "execution_count": 46,
   "metadata": {},
   "outputs": [
    {
     "data": {
      "text/plain": [
       "'Hello There'"
      ]
     },
     "execution_count": 46,
     "metadata": {},
     "output_type": "execute_result"
    }
   ],
   "source": [
    "re.sub('World', 'There', 'Hello World')"
   ]
  },
  {
   "cell_type": "code",
   "execution_count": 47,
   "metadata": {},
   "outputs": [
    {
     "data": {
      "text/plain": [
       "['Hello', 'There', 'I', 'am', 'trying', 'to', 'learn', 'regex']"
      ]
     },
     "execution_count": 47,
     "metadata": {},
     "output_type": "execute_result"
    }
   ],
   "source": [
    "re.split(r'\\d', 'Hello0There9I0am0trying0to0learn0regex')"
   ]
  },
  {
   "cell_type": "markdown",
   "metadata": {},
   "source": [
    "## Compiling for Efficiency\n",
    "- Use the re.compile(pattern) if a regex is used repeatedly\n",
    "\n",
    "pattern_obj = re.compile(pattern, re.VERBOSE)"
   ]
  },
  {
   "cell_type": "code",
   "execution_count": 48,
   "metadata": {},
   "outputs": [],
   "source": [
    "regex = re.compile(pattern, re.VERBOSE)"
   ]
  },
  {
   "cell_type": "code",
   "execution_count": 50,
   "metadata": {},
   "outputs": [],
   "source": [
    "valid_numbers = [phone for phone in phones if regex.match(phone)]"
   ]
  },
  {
   "cell_type": "code",
   "execution_count": 51,
   "metadata": {},
   "outputs": [
    {
     "data": {
      "text/plain": [
       "['123-456-7890', '123 456 7890', '(123) 456-7890']"
      ]
     },
     "execution_count": 51,
     "metadata": {},
     "output_type": "execute_result"
    }
   ],
   "source": [
    "valid_numbers"
   ]
  },
  {
   "cell_type": "markdown",
   "metadata": {},
   "source": [
    "## str methods and regex\n",
    "- The regex.search() method operates a lot like str.index() or str.find()"
   ]
  },
  {
   "cell_type": "code",
   "execution_count": 59,
   "metadata": {},
   "outputs": [],
   "source": [
    "text = \"hello there! I am trying to learn regex regex\""
   ]
  },
  {
   "cell_type": "code",
   "execution_count": 60,
   "metadata": {},
   "outputs": [
    {
     "data": {
      "text/plain": [
       "34"
      ]
     },
     "execution_count": 60,
     "metadata": {},
     "output_type": "execute_result"
    }
   ],
   "source": [
    "text.index('regex')"
   ]
  },
  {
   "cell_type": "code",
   "execution_count": 61,
   "metadata": {},
   "outputs": [],
   "source": [
    "regex = re.compile('regex')"
   ]
  },
  {
   "cell_type": "code",
   "execution_count": 62,
   "metadata": {},
   "outputs": [],
   "source": [
    "match = regex.search(text)"
   ]
  },
  {
   "cell_type": "code",
   "execution_count": 64,
   "metadata": {},
   "outputs": [
    {
     "data": {
      "text/plain": [
       "34"
      ]
     },
     "execution_count": 64,
     "metadata": {},
     "output_type": "execute_result"
    }
   ],
   "source": [
    "match.start()"
   ]
  },
  {
   "cell_type": "code",
   "execution_count": 65,
   "metadata": {},
   "outputs": [
    {
     "data": {
      "text/plain": [
       "39"
      ]
     },
     "execution_count": 65,
     "metadata": {},
     "output_type": "execute_result"
    }
   ],
   "source": [
    "match.end()"
   ]
  },
  {
   "cell_type": "markdown",
   "metadata": {},
   "source": [
    "- The regex.sub() method operates much like str.replace():"
   ]
  },
  {
   "cell_type": "code",
   "execution_count": 66,
   "metadata": {},
   "outputs": [
    {
     "data": {
      "text/plain": [
       "'hello there! I am trying to learn REGEX REGEX'"
      ]
     },
     "execution_count": 66,
     "metadata": {},
     "output_type": "execute_result"
    }
   ],
   "source": [
    "text.replace('regex','REGEX')"
   ]
  },
  {
   "cell_type": "code",
   "execution_count": 69,
   "metadata": {},
   "outputs": [
    {
     "data": {
      "text/plain": [
       "'hello there! I am trying to learn world world'"
      ]
     },
     "execution_count": 69,
     "metadata": {},
     "output_type": "execute_result"
    }
   ],
   "source": [
    "regex.sub('world',text)"
   ]
  },
  {
   "cell_type": "markdown",
   "metadata": {},
   "source": [
    "## Example: A common task of matching email addresses"
   ]
  },
  {
   "cell_type": "code",
   "execution_count": 74,
   "metadata": {},
   "outputs": [],
   "source": [
    "email = re.compile(r'\\w+@\\w+\\.[a-z]{3}')"
   ]
  },
  {
   "cell_type": "code",
   "execution_count": 79,
   "metadata": {},
   "outputs": [],
   "source": [
    "doc = \"Please mail everything to tdahibh@ncsu.edu and tushar.h.dahibhate@gmail.com\""
   ]
  },
  {
   "cell_type": "code",
   "execution_count": 80,
   "metadata": {},
   "outputs": [
    {
     "data": {
      "text/plain": [
       "['tdahibh@ncsu.edu', 'dahibhate@gmail.com']"
      ]
     },
     "execution_count": 80,
     "metadata": {},
     "output_type": "execute_result"
    }
   ],
   "source": [
    "email.findall(doc)"
   ]
  },
  {
   "cell_type": "code",
   "execution_count": 81,
   "metadata": {},
   "outputs": [],
   "source": [
    "email.match(doc)"
   ]
  },
  {
   "cell_type": "code",
   "execution_count": 82,
   "metadata": {},
   "outputs": [
    {
     "data": {
      "text/plain": [
       "<re.Match object; span=(26, 42), match='tdahibh@ncsu.edu'>"
      ]
     },
     "execution_count": 82,
     "metadata": {},
     "output_type": "execute_result"
    }
   ],
   "source": [
    "email.search(doc)"
   ]
  },
  {
   "cell_type": "code",
   "execution_count": 83,
   "metadata": {},
   "outputs": [],
   "source": [
    "#fixed"
   ]
  },
  {
   "cell_type": "code",
   "execution_count": 100,
   "metadata": {},
   "outputs": [],
   "source": [
    "email = re.compile(r'\\w+[\\.\\w]+@\\w+\\.[a-z]{3}')"
   ]
  },
  {
   "cell_type": "code",
   "execution_count": 101,
   "metadata": {},
   "outputs": [
    {
     "data": {
      "text/plain": [
       "['tdahibh@ncsu.edu', 'tushar.h.dahibhate@gmail.com']"
      ]
     },
     "execution_count": 101,
     "metadata": {},
     "output_type": "execute_result"
    }
   ],
   "source": [
    "email.findall(doc)"
   ]
  },
  {
   "cell_type": "markdown",
   "metadata": {},
   "source": [
    "# Basics of RegEx syntax"
   ]
  },
  {
   "cell_type": "markdown",
   "metadata": {},
   "source": [
    "### Simple strings are matched directly"
   ]
  },
  {
   "cell_type": "code",
   "execution_count": 102,
   "metadata": {},
   "outputs": [],
   "source": [
    "lor = open('LordOfTheRings.txt').read()"
   ]
  },
  {
   "cell_type": "code",
   "execution_count": 103,
   "metadata": {},
   "outputs": [],
   "source": [
    "frodo = re.compile('Frodo')\n",
    "frodos = frodo.findall(lor)"
   ]
  },
  {
   "cell_type": "code",
   "execution_count": 104,
   "metadata": {},
   "outputs": [
    {
     "data": {
      "text/plain": [
       "1100"
      ]
     },
     "execution_count": 104,
     "metadata": {},
     "output_type": "execute_result"
    }
   ],
   "source": [
    "len(frodos)"
   ]
  },
  {
   "cell_type": "markdown",
   "metadata": {},
   "source": [
    "### Some characters have special meanings\n",
    ". ^ $ * + ? { } [ ] \\ | ( )\n",
    "- if you need to match any of these you will have to escape them with a backslash\n",
    "- use of raw strings is a good practice to avoid clashes with \\ use"
   ]
  },
  {
   "cell_type": "code",
   "execution_count": 105,
   "metadata": {},
   "outputs": [],
   "source": [
    "x = re.compile(r'\\$')"
   ]
  },
  {
   "cell_type": "code",
   "execution_count": 106,
   "metadata": {},
   "outputs": [
    {
     "data": {
      "text/plain": [
       "['$']"
      ]
     },
     "execution_count": 106,
     "metadata": {},
     "output_type": "execute_result"
    }
   ],
   "source": [
    "x.findall('20$')"
   ]
  },
  {
   "cell_type": "markdown",
   "metadata": {},
   "source": [
    "### Square brackets match custom character groups\n",
    "- If built-in character groups are not sufficient, define your own\n",
    "- use a dash to specify the range,\n",
    "- e.g. \"[a-m]\" will match lower case letters up to m"
   ]
  },
  {
   "cell_type": "code",
   "execution_count": 107,
   "metadata": {},
   "outputs": [
    {
     "data": {
      "text/plain": [
       "['l', 'jfns', 'jkvn', 'skjfgn', 'rg']"
      ]
     },
     "execution_count": 107,
     "metadata": {},
     "output_type": "execute_result"
    }
   ],
   "source": [
    "regex = re.compile('[aeiou]')\n",
    "regex.split('lajfnsajkvnaskjfgnurg')"
   ]
  },
  {
   "cell_type": "markdown",
   "metadata": {},
   "source": [
    "### Wildcards match repeated characters\n",
    "- If you want to match five characters in a row you can \"\\w\\w\\w\\w\\w\" or \"\\w{3}\"\n",
    "- (Ch 14) The following is a table of the repetition markers available for use in regular expressions:\n",
    "- \"ab?\" matches \"a\" or \"ab\"\n",
    "- \"ab*\" matches \"a\", \"ab\", \"abb\", \"abbb\"...\n",
    "- \"ab+\" matches \"ab\", \"abb\", \"abbb\"... but not \"a\"\n",
    "- \"ab{2}\" matches \"abb\"\n",
    "- \"ab{2,3}\" matches \"abb\" or \"abbb\"\n"
   ]
  },
  {
   "cell_type": "code",
   "execution_count": 108,
   "metadata": {},
   "outputs": [],
   "source": [
    "email = r'''\n",
    "    [\\w.]+\n",
    "    @\\w+\\.[a-z]{3}\n",
    "'''"
   ]
  },
  {
   "cell_type": "code",
   "execution_count": 109,
   "metadata": {},
   "outputs": [],
   "source": [
    "x = re.compile(email, re.VERBOSE)"
   ]
  },
  {
   "cell_type": "code",
   "execution_count": 110,
   "metadata": {},
   "outputs": [
    {
     "data": {
      "text/plain": [
       "<re.Match object; span=(0, 28), match='tushar.h.dahibhate@gmail.com'>"
      ]
     },
     "execution_count": 110,
     "metadata": {},
     "output_type": "execute_result"
    }
   ],
   "source": [
    "x.match('tushar.h.dahibhate@gmail.com')"
   ]
  },
  {
   "cell_type": "markdown",
   "metadata": {},
   "source": [
    "### Naming extracted components\n"
   ]
  },
  {
   "cell_type": "code",
   "execution_count": 111,
   "metadata": {},
   "outputs": [
    {
     "data": {
      "text/plain": [
       "{'user': 'tushar.h.dahibhate', 'domain': 'gmail', 'suffix': 'com'}"
      ]
     },
     "execution_count": 111,
     "metadata": {},
     "output_type": "execute_result"
    }
   ],
   "source": [
    "email4 = re.compile('(?P<user>[\\w.]+)@(?P<domain>\\w+)\\.(?P<suffix>[a-z]{3})')\n",
    "match = email4.match('tushar.h.dahibhate@gmail.com')\n",
    "match.groupdict()"
   ]
  },
  {
   "cell_type": "markdown",
   "metadata": {},
   "source": [
    "# Additional practice"
   ]
  },
  {
   "cell_type": "markdown",
   "metadata": {},
   "source": [
    "## re.finditer()"
   ]
  },
  {
   "cell_type": "code",
   "execution_count": 112,
   "metadata": {},
   "outputs": [],
   "source": [
    "html = urlopen('https://en.wikipedia.org/wiki/LexisNexis').read().decode('utf-8')"
   ]
  },
  {
   "cell_type": "code",
   "execution_count": 115,
   "metadata": {},
   "outputs": [],
   "source": [
    "pattern = re.compile(r'\\b(the\\s+\\w+)\\s+', re.IGNORECASE)"
   ]
  },
  {
   "cell_type": "code",
   "execution_count": 117,
   "metadata": {},
   "outputs": [
    {
     "name": "stdout",
     "output_type": "stream",
     "text": [
      "8073: the free \n",
      "12650: the electronic \n",
      "12811: the company \n",
      "16400: The story \n",
      "17151: the OSBA \n",
      "17641: the contents \n",
      "18268: the business \n",
      "18299: the Data \n",
      "18716: the team \n",
      "18974: The resulting \n",
      "19009: the nonlegal \n",
      "19046: the legal \n",
      "20423: the OBAR \n",
      "20466: the historical \n",
      "20909: the board \n",
      "21116: the legacy \n",
      "22116: the original \n",
      "22239: the late \n",
      "22412: the implementation \n",
      "22434: the specifications \n",
      "22642: the same \n",
      "22693: the necessary \n",
      "22722: the legal \n",
      "23124: the data \n",
      "23358: the first \n",
      "23371: the early \n",
      "23422: the vision \n",
      "23746: the 1970s \n",
      "23837: the professional \n",
      "23879: the early \n",
      "24054: the librarian \n",
      "24787: the end \n",
      "24809: the LEXIS \n",
      "24885: the entire \n",
      "26298: the LEXIS \n",
      "26520: the LEXIS \n",
      "26735: the first \n",
      "26975: The NEXIS \n",
      "27671: the grounds \n",
      "27825: the spoken \n",
      "27915: the computerized \n",
      "28139: the company \n",
      "28495: the Second \n",
      "28536: the 2nd \n",
      "28706: the two \n",
      "28867: the Michie \n",
      "29145: the LexisNexis \n",
      "29397: the sale \n",
      "29431: the tax \n",
      "29656: the Illinois \n",
      "29924: The Court \n",
      "29964: the lower \n",
      "29993: the correct \n",
      "30323: the company \n",
      "30344: the American \n",
      "30706: the Ohio \n",
      "31609: the possible \n",
      "32138: the security \n",
      "32740: The company \n",
      "34229: The Lexis \n",
      "34411: the 1770s \n",
      "35878: the UK \n",
      "36456: The organization \n",
      "37055: the great \n",
      "37201: the terms \n",
      "37266: the corner \n",
      "37596: the Reed \n",
      "38049: The Butterworths \n",
      "38115: the UK \n",
      "38669: The Butterworths \n",
      "38901: the practice \n",
      "38917: the legal \n",
      "42335: the banking \n",
      "42566: The company \n",
      "42635: the banking \n",
      "42747: the Sheshunoffs \n",
      "42919: the second \n",
      "42974: the country \n",
      "43137: the financial \n",
      "44574: the company \n",
      "44629: the previous \n",
      "44815: the SIIA \n",
      "45009: the Stevie \n",
      "45172: the SIIA \n",
      "45344: the 2014 \n",
      "45413: the procurement \n",
      "49554: The New \n",
      "49574: The New \n",
      "50587: The New \n",
      "51635: The Wall \n",
      "51660: The Wall \n",
      "53581: THE MEDIA \n",
      "53699: The New \n",
      "53719: The New \n",
      "54665: The MIT \n",
      "55973: The MIT \n",
      "57128: The MIT \n",
      "58387: The MIT \n",
      "59544: The MIT \n",
      "61114: The MIT \n",
      "62262: The MIT \n",
      "63703: The MIT \n",
      "64952: The MIT \n",
      "66099: The MIT \n",
      "67413: The MIT \n",
      "68790: The MIT \n",
      "69946: The MIT \n",
      "71589: The MIT \n",
      "76124: The New \n",
      "77091: THE MEDIA \n",
      "77177: The New \n",
      "79367: The New \n",
      "80336: The New \n",
      "93136: the company \n",
      "93207: the Chinese \n",
      "118627: The Journal \n",
      "118675: The Journal \n",
      "132279: the content \n",
      "132434: the content \n",
      "134724: the main \n",
      "135008: the main \n",
      "135258: the best \n",
      "135871: the Wikipedia \n",
      "136605: the wiki \n"
     ]
    }
   ],
   "source": [
    "for match in pattern.finditer(html):\n",
    "    print('{}: {}'.format(match.start(), match.group(0)))"
   ]
  },
  {
   "cell_type": "markdown",
   "metadata": {},
   "source": [
    "### re.fullmatch()"
   ]
  },
  {
   "cell_type": "code",
   "execution_count": 118,
   "metadata": {},
   "outputs": [],
   "source": [
    "re.fullmatch?"
   ]
  },
  {
   "cell_type": "code",
   "execution_count": 124,
   "metadata": {
    "scrolled": true
   },
   "outputs": [
    {
     "name": "stdout",
     "output_type": "stream",
     "text": [
      "'dog' does not match pattern\n",
      "'do' matches 'do'\n",
      "'dh' matches 'dh'\n",
      "'og' does not match pattern\n",
      "'d' does not match pattern\n",
      "'doh' does not match pattern\n",
      "'oh' does not match pattern\n"
     ]
    }
   ],
   "source": [
    "pattern = re.compile(\"d[oh]\")\n",
    "words = ['dog', 'do', 'dh', 'og','d','doh','oh']\n",
    "for word in words:\n",
    "    match = pattern.fullmatch(word)\n",
    "    if match:\n",
    "        print(\"'{}' matches '{}'\".format(word,match.string))\n",
    "    else:\n",
    "        print(\"'{}' does not match pattern\".format(word))"
   ]
  },
  {
   "cell_type": "markdown",
   "metadata": {},
   "source": [
    "## Non capturing groups\n",
    "- The group is matched but not captured. "
   ]
  },
  {
   "cell_type": "code",
   "execution_count": null,
   "metadata": {},
   "outputs": [],
   "source": []
  }
 ],
 "metadata": {
  "kernelspec": {
   "display_name": "Python 3",
   "language": "python",
   "name": "python3"
  },
  "language_info": {
   "codemirror_mode": {
    "name": "ipython",
    "version": 3
   },
   "file_extension": ".py",
   "mimetype": "text/x-python",
   "name": "python",
   "nbconvert_exporter": "python",
   "pygments_lexer": "ipython3",
   "version": "3.7.1"
  }
 },
 "nbformat": 4,
 "nbformat_minor": 2
}
