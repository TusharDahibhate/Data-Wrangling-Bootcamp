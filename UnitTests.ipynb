{
 "cells": [
  {
   "cell_type": "code",
   "execution_count": 1,
   "metadata": {},
   "outputs": [],
   "source": [
    "import unittest"
   ]
  },
  {
   "cell_type": "markdown",
   "metadata": {},
   "source": [
    "- unittest supports fixtures, test suits, and a test runner to enable automated testing of code\n",
    "- Tests are created by subclassing TestCase and overriding or adding methods\n",
    "- Tests have two parts:\n",
    "    - code to manage test fixtures\n",
    "    - test itself"
   ]
  },
  {
   "cell_type": "code",
   "execution_count": 5,
   "metadata": {},
   "outputs": [],
   "source": [
    "class ExampleTest(unittest.TestCase):\n",
    "    def setUp(self):\n",
    "        self.fixture = 'Blue'\n",
    "        \n",
    "    def tearDown(self):\n",
    "        del self.fixture\n",
    "        \n",
    "    def test_example(self, color = 'Blue'):\n",
    "        self.assertEqual(self.fixture, color)        "
   ]
  },
  {
   "cell_type": "code",
   "execution_count": 6,
   "metadata": {},
   "outputs": [
    {
     "name": "stderr",
     "output_type": "stream",
     "text": [
      ".\n",
      "----------------------------------------------------------------------\n",
      "Ran 1 test in 0.001s\n",
      "\n",
      "OK\n"
     ]
    }
   ],
   "source": [
    "if __name__ == '__main__':\n",
    "    unittest.main(argv=['first-arg-is-ignored'], exit=False)"
   ]
  },
  {
   "cell_type": "markdown",
   "metadata": {},
   "source": [
    "# Testing a Function\n",
    "- Create a function\n",
    "- TestCase class and a method that tests the function\n",
    "- Import the function\n",
    "- Run unit test"
   ]
  },
  {
   "cell_type": "code",
   "execution_count": 2,
   "metadata": {},
   "outputs": [],
   "source": [
    "def get_initials(first, last):\n",
    "\t\"\"\"Generate initials.\"\"\"\n",
    "\tinitials = first[0].upper() + last[0].upper()\n",
    "\treturn initials"
   ]
  },
  {
   "cell_type": "markdown",
   "metadata": {},
   "source": [
    "## Create TestCase Class and a Method that Tests the Function¶\n",
    "- Extend unittest.TestCase class\n",
    "- Define a method that:\n",
    "    - uses the function under the test\n",
    "    - contains the expected correct output\n",
    "    - uses assertion statement that will compare the expected output with the actual output\n",
    "    - has the name that starts with test (otherwise, check_function will not work)\n",
    "- Use descriptive names for the test function"
   ]
  },
  {
   "cell_type": "code",
   "execution_count": 3,
   "metadata": {},
   "outputs": [],
   "source": [
    "class InitialsTestCase(unittest.TestCase):\n",
    "    \"\"\"Tests for 'initals_function.py\"\"\"\n",
    "    \n",
    "    def test_first_last_initials(self):\n",
    "        \"\"\"Do names like 'Donald Trump' work?\"\"\"\n",
    "        initials = get_initials('Donald', 'Trump')\n",
    "        self.assertEqual(initials, 'DT')"
   ]
  },
  {
   "cell_type": "markdown",
   "metadata": {},
   "source": [
    "### Import the function to test and run unittest¶"
   ]
  },
  {
   "cell_type": "code",
   "execution_count": 4,
   "metadata": {},
   "outputs": [
    {
     "data": {
      "text/plain": [
       "'TD'"
      ]
     },
     "execution_count": 4,
     "metadata": {},
     "output_type": "execute_result"
    }
   ],
   "source": [
    "get_initials('Tushar','Dahibhate')"
   ]
  },
  {
   "cell_type": "code",
   "execution_count": 5,
   "metadata": {},
   "outputs": [
    {
     "name": "stderr",
     "output_type": "stream",
     "text": [
      ".\n",
      "----------------------------------------------------------------------\n",
      "Ran 1 test in 0.006s\n",
      "\n",
      "OK\n"
     ]
    }
   ],
   "source": [
    "if __name__ == '__main__':\n",
    "    unittest.main(argv=['first-arg-is-ignored'], exit=False)"
   ]
  },
  {
   "cell_type": "markdown",
   "metadata": {},
   "source": [
    "# Assertion Methods\n",
    "- assertTrue(x, msg=None) - Check that the expression is true.\n",
    "- assertFalse(x, msg=None) - Check that the expression is false\n",
    "- assertIsNone(x, msg=None) - Same as self.assertTrue(obj is None), with a nicer default message\n",
    "- assertIsNotNone(x, msg=None)- Included for symmetry with assertIsNone\n",
    "- assertEqual(a, b, msg=None) - Fail if the two objects are unequal as determined by the '==' operator.\n",
    "- assertNotEqual(a, b, msg=None) - Fail if the two objects are equal as determined by the '!=' operator.\n",
    "- assertIs(a, b, msg=None) - Just like self.assertTrue(a is b), but with a nicer default message.\n",
    "- assertIsNot(a, b, msg=None) - Just like self.assertTrue(a is not b), but with a nicer default message.\n",
    "- assertIn(a, b, msg=None) - Just like self.assertTrue(a in b), but with a nicer default message.\n",
    "- assertNotIn(a, b, msg=None) - Just like self.assertTrue(a not in b), but with a nicer default message.\n",
    "- assertIsInstance(a, b, msg=None) - Same as self.assertTrue(isinstance(obj, cls)), with a nicer default message.\n",
    "- assertNotIsInstance(a, b, msg=None) - Included for symmetry with assertIsInstance."
   ]
  },
  {
   "cell_type": "code",
   "execution_count": 6,
   "metadata": {},
   "outputs": [],
   "source": [
    "class TestAssertions(unittest.TestCase):\n",
    "    \n",
    "    def test_assertIsNone(self):\n",
    "        self.assertIsNone(None)"
   ]
  },
  {
   "cell_type": "code",
   "execution_count": 7,
   "metadata": {},
   "outputs": [
    {
     "name": "stderr",
     "output_type": "stream",
     "text": [
      "..\n",
      "----------------------------------------------------------------------\n",
      "Ran 2 tests in 0.005s\n",
      "\n",
      "OK\n"
     ]
    }
   ],
   "source": [
    "if __name__ == '__main__':\n",
    "    unittest.main(argv=['first-arg-is-ignored'], \n",
    "                  exit=False)"
   ]
  },
  {
   "cell_type": "code",
   "execution_count": 8,
   "metadata": {},
   "outputs": [],
   "source": [
    "class TestAssertions(unittest.TestCase):\n",
    "    \n",
    "    def test_assertIsNone(self):\n",
    "        self.assertIsNone(\"None\")"
   ]
  },
  {
   "cell_type": "code",
   "execution_count": 9,
   "metadata": {
    "scrolled": true
   },
   "outputs": [
    {
     "name": "stderr",
     "output_type": "stream",
     "text": [
      ".F\n",
      "======================================================================\n",
      "FAIL: test_assertIsNone (__main__.TestAssertions)\n",
      "----------------------------------------------------------------------\n",
      "Traceback (most recent call last):\n",
      "  File \"<ipython-input-8-55a5cbff0869>\", line 4, in test_assertIsNone\n",
      "    self.assertIsNone(\"None\")\n",
      "AssertionError: 'None' is not None\n",
      "\n",
      "----------------------------------------------------------------------\n",
      "Ran 2 tests in 0.010s\n",
      "\n",
      "FAILED (failures=1)\n"
     ]
    }
   ],
   "source": [
    "if __name__ == '__main__':\n",
    "    unittest.main(argv=['first-arg-is-ignored'], \n",
    "                  exit=False)"
   ]
  },
  {
   "cell_type": "code",
   "execution_count": null,
   "metadata": {},
   "outputs": [],
   "source": []
  }
 ],
 "metadata": {
  "kernelspec": {
   "display_name": "Python 3",
   "language": "python",
   "name": "python3"
  },
  "language_info": {
   "codemirror_mode": {
    "name": "ipython",
    "version": 3
   },
   "file_extension": ".py",
   "mimetype": "text/x-python",
   "name": "python",
   "nbconvert_exporter": "python",
   "pygments_lexer": "ipython3",
   "version": "3.7.1"
  }
 },
 "nbformat": 4,
 "nbformat_minor": 2
}
